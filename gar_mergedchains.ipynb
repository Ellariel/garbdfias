{
 "cells": [
  {
   "cell_type": "code",
   "execution_count": 1,
   "id": "b2ca6ede",
   "metadata": {},
   "outputs": [],
   "source": [
    "%%capture\n",
    "!pip install numpy==1.21.4\n",
    "!pip install pandas==1.3.4\n",
    "!pip install loguru==0.5.3\n",
    "!pip install psycopg2-binary\n",
    "!pip install pandarallel"
   ]
  },
  {
   "cell_type": "code",
   "execution_count": 43,
   "id": "bc4fbfb9",
   "metadata": {},
   "outputs": [
    {
     "name": "stdout",
     "output_type": "stream",
     "text": [
      "INFO: Pandarallel will run on 40 workers.\n",
      "INFO: Pandarallel will use standard multiprocessing data transfer (pipe) to transfer data between the main process and workers.\n"
     ]
    }
   ],
   "source": [
    "import sys\n",
    "import os\n",
    "import gc\n",
    "from tqdm import tqdm\n",
    "import pandas as pd\n",
    "from adding_tables_psycopg import AddingDataPsycopg\n",
    "from pandarallel import pandarallel\n",
    "pandarallel.initialize(progress_bar=False, nb_workers=os.cpu_count(), use_memory_fs=False)\n",
    "tqdm.pandas()\n",
    "\n",
    "import warnings\n",
    "warnings.filterwarnings(\"ignore\")"
   ]
  },
  {
   "cell_type": "code",
   "execution_count": 74,
   "id": "adf5ff1f",
   "metadata": {},
   "outputs": [],
   "source": [
    "result_dir = './result'\n",
    "merge_dir = './merge'\n",
    "os.makedirs(merge_dir, exist_ok=True)"
   ]
  },
  {
   "cell_type": "code",
   "execution_count": 75,
   "id": "7e079904",
   "metadata": {},
   "outputs": [],
   "source": [
    "regions = [i for i in os.listdir() if (len(i) == 2) and (not i in ['88', '81', '82', '80', '84', '85'])]"
   ]
  },
  {
   "cell_type": "code",
   "execution_count": 62,
   "id": "30bdbc04",
   "metadata": {},
   "outputs": [],
   "source": [
    "def cleanup(x):\n",
    "    del x\n",
    "    gc.collect()\n",
    "\n",
    "def expand_chain(row):\n",
    "        levchain = eval(row['levchain'])\n",
    "        for i in levchain:\n",
    "            if row[f'l{i}'] in adobj.index:\n",
    "                obj = adobj.loc[row[f'l{i}']]\n",
    "                if len(obj):\n",
    "                    if isinstance(obj, pd.DataFrame):\n",
    "                        obj = obj.iloc[0]\n",
    "                    row[f'l{i}_name'] = obj['NAME']\n",
    "                    if not f'{i}' in ['1', '10', '9', '8', '7']:\n",
    "                        row[f'l{i}_typename'] = obj['TYPENAME']\n",
    "                        row[f'l{i}_OKTMO'] = obj['OKTMO']\n",
    "\n",
    "        if pd.notna(row[\"id_tow\"]):\n",
    "            if row['id_tow'] in adobj.index:\n",
    "                obj = adobj.loc[row['id_tow']]\n",
    "                if len(obj):\n",
    "                    if isinstance(obj, pd.DataFrame):\n",
    "                        obj = obj.iloc[0]\n",
    "                    row['tow_name'] = obj['NAME']\n",
    "                    row['tow_typename'] = obj['TYPENAME']\n",
    "                    row['tow_OKTMO'] = obj['OKTMO']              \n",
    "\n",
    "        if pd.notna(row[\"id_mun\"]):\n",
    "            if row['id_mun'] in adobj.index:\n",
    "                obj = adobj.loc[row['id_mun']]\n",
    "                if len(obj):\n",
    "                    if isinstance(obj, pd.DataFrame):\n",
    "                        obj = obj.iloc[0]\n",
    "                    row['mun_name'] = obj['NAME']\n",
    "                    row['mun_typename'] = obj['TYPENAME']\n",
    "                    row['mun_OKTMO'] = obj['OKTMO']   \n",
    "\n",
    "        if pd.notna(row[\"street\"]):\n",
    "            if row[f'l{row[\"street\"]}'] in adobj.index:\n",
    "                obj = adobj.loc[row[f'l{row[\"street\"]}']]\n",
    "                if len(obj):\n",
    "                    if isinstance(obj, pd.DataFrame):\n",
    "                        obj = obj.iloc[0]\n",
    "                    row['street_name'] = obj['NAME']\n",
    "\n",
    "        row.drop(['chain', 'leftover'], inplace=True)\n",
    "        return row"
   ]
  },
  {
   "cell_type": "code",
   "execution_count": 73,
   "id": "4010d90d",
   "metadata": {},
   "outputs": [
    {
     "name": "stderr",
     "output_type": "stream",
     "text": [
      "  0%|          | 0/1 [01:01<?, ?it/s]\n"
     ]
    }
   ],
   "source": [
    "for r in tqdm(regions):\n",
    "      if not (f'{r}_flat.csv' in os.listdir(merge_dir)):\n",
    "            if (f'{r}_hadobj.csv' in os.listdir(result_dir)) and (f'{r}_parsed_chains.csv' in os.listdir(result_dir)):\n",
    "                adobj = pd.read_csv(os.path.join(result_dir, f'{r}_hadobj.csv'), dtype={#'isactive': 'Int64', 'isactual': 'Int64',\n",
    "                                                                'OBJECTID' : 'Int64',\n",
    "                                                                'level': 'Int64', 'objectid': 'Int64',\n",
    "                                                                'OKTMO' : 'str', 'KLADR' : 'str'}) \\\n",
    "                .set_index(['OBJECTID'])\n",
    "                parsed_chains = pd.read_csv(os.path.join(result_dir, f'{r}_parsed_chains.csv'), dtype={\"l1\": 'Int64', \"l2\": 'Int64', \"l3\": 'Int64',\n",
    "                                                                             \"l4\": 'Int64', \"l5\": 'Int64', \"l6\": 'Int64',\n",
    "                                                                             \"l7\": 'Int64', \"l8\": 'Int64', \"l9\": 'Int64',\n",
    "                                                                             \"l10\": 'Int64',\n",
    "                                                                             'tow': 'Int64',\n",
    "                                                                             'mun': 'Int64',\n",
    "                                                                             'id_tow': 'Int64',\n",
    "                                                                             'id_mun': 'Int64',\n",
    "                                                                             'id_reg': 'Int64',\n",
    "                                                                             'street': 'Int64'})   \n",
    "                merged = parsed_chains.parallel_apply(expand_chain, axis=1)\n",
    "                #merged = parsed_chains.progress_apply(expand_chain, axis=1)\n",
    "                merged.to_csv(os.path.join(merge_dir, f'{r}_flat.csv'), index=False)\n",
    "                cleanup(adobj)\n",
    "                cleanup(parsed_chains)\n",
    "                cleanup(merged)\n",
    "                break"
   ]
  },
  {
   "cell_type": "code",
   "execution_count": null,
   "id": "43047ba6",
   "metadata": {},
   "outputs": [],
   "source": []
  },
  {
   "cell_type": "code",
   "execution_count": null,
   "id": "83cd8eb0",
   "metadata": {},
   "outputs": [],
   "source": []
  },
  {
   "cell_type": "code",
   "execution_count": 76,
   "id": "e5ecf219",
   "metadata": {},
   "outputs": [
    {
     "name": "stdout",
     "output_type": "stream",
     "text": [
      "Вы подключены к базе: temp_inid\n"
     ]
    },
    {
     "name": "stderr",
     "output_type": "stream",
     "text": [
      "100%|██████████| 86/86 [18:03<00:00, 12.60s/it]"
     ]
    },
    {
     "name": "stdout",
     "output_type": "stream",
     "text": [
      "total_parsed_chains: 32448994\n"
     ]
    },
    {
     "name": "stderr",
     "output_type": "stream",
     "text": [
      "\n"
     ]
    }
   ],
   "source": [
    "sample = AddingDataPsycopg()\n",
    "sample.create_table('merged_chains', 'gar_source')\n",
    "\n",
    "total_parsed_chains = 0\n",
    "\n",
    "for r in tqdm(regions):\n",
    "    if f'{r}_flat.csv' in os.listdir(merge_dir):     \n",
    "        merged_chains = pd.read_csv(os.path.join(merge_dir, f'{r}_flat.csv'), dtype={\n",
    "                                                                     \"l1\": 'Int64', \"l2\": 'Int64', \"l3\": 'Int64',\n",
    "                                                                     \"l4\": 'Int64', \"l5\": 'Int64', \"l6\": 'Int64',\n",
    "                                                                     \"l7\": 'Int64', \"l8\": 'Int64', \"l9\": 'Int64',\n",
    "                                                                     \"l10\": 'Int64',\n",
    "                                                                     'tow': 'Int64',\n",
    "                                                                     'mun': 'Int64',\n",
    "                                                                     'id_tow': 'Int64',\n",
    "                                                                     'id_mun': 'Int64',\n",
    "                                                                     'id_reg': 'Int64',\n",
    "                                                                     'street': 'Int64',\n",
    "                                                                     \"l1_OKTMO\": 'str', \"l2_OKTMO\": 'str', \"l3_OKTMO\": 'str',\n",
    "                                                                     \"l4_OKTMO\": 'str', \"l5_OKTMO\": 'str', \"l6_OKTMO\": 'str',\n",
    "                                                                     \"l7_OKTMO\": 'str', \"l8_OKTMO\": 'str', \"l9_OKTMO\": 'str',\n",
    "                                                                     \"l10_OKTMO\": 'str',\n",
    "                                                                     'tow_OKTMO': 'str',\n",
    "                                                                     'mun_OKTMO': 'str'\n",
    "                                                                    })  \n",
    "        total_parsed_chains += len(merged_chains)\n",
    "        sample.write_to_sql(merged_chains, 'merged_chains', 'gar_source')\n",
    "        cleanup(merged_chains)\n",
    "    #break\n",
    "print(f'total_parsed_chains: {total_parsed_chains}')"
   ]
  },
  {
   "cell_type": "code",
   "execution_count": null,
   "id": "5ce3d1b5",
   "metadata": {},
   "outputs": [],
   "source": []
  },
  {
   "cell_type": "code",
   "execution_count": null,
   "id": "5a2dea41",
   "metadata": {},
   "outputs": [],
   "source": []
  },
  {
   "cell_type": "code",
   "execution_count": null,
   "id": "e7108fe3",
   "metadata": {},
   "outputs": [],
   "source": []
  }
 ],
 "metadata": {
  "kernelspec": {
   "display_name": "Python 3 (ipykernel)",
   "language": "python",
   "name": "python3"
  },
  "language_info": {
   "codemirror_mode": {
    "name": "ipython",
    "version": 3
   },
   "file_extension": ".py",
   "mimetype": "text/x-python",
   "name": "python",
   "nbconvert_exporter": "python",
   "pygments_lexer": "ipython3",
   "version": "3.8.12"
  }
 },
 "nbformat": 4,
 "nbformat_minor": 5
}
