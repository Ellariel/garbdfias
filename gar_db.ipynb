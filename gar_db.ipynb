{
 "cells": [
  {
   "cell_type": "code",
   "execution_count": 16,
   "id": "b15481cd",
   "metadata": {},
   "outputs": [],
   "source": [
    "import os\n",
    "from tqdm import tqdm\n",
    "data_dir = './'\n",
    "final_dir = './result'\n",
    "regions = [i for i in os.listdir(data_dir) if (len(i) == 2) and (not i in ['88', '81', '82', '80', '84', '85'])]"
   ]
  },
  {
   "cell_type": "code",
   "execution_count": 17,
   "id": "37e55a86",
   "metadata": {
    "scrolled": true
   },
   "outputs": [
    {
     "name": "stdout",
     "output_type": "stream",
     "text": [
      "Вы подключены к базе: temp_inid\n"
     ]
    }
   ],
   "source": [
    "#%pip install psycopg2-binary\n",
    "import pandas as pd\n",
    "from adding_tables_psycopg import AddingDataPsycopg\n",
    "sample = AddingDataPsycopg()"
   ]
  },
  {
   "cell_type": "code",
   "execution_count": 18,
   "id": "498b7b1c",
   "metadata": {},
   "outputs": [
    {
     "name": "stderr",
     "output_type": "stream",
     "text": [
      "  1%|          | 1/86 [00:09<14:03,  9.92s/it]/opt/anaconda/lib/python3.8/site-packages/IPython/core/interactiveshell.py:3444: DtypeWarning: Columns (1,2,8,13,19,22) have mixed types.Specify dtype option on import or set low_memory=False.\n",
      "  exec(code_obj, self.user_global_ns, self.user_ns)\n",
      "  8%|▊         | 7/86 [01:14<12:51,  9.77s/it]/opt/anaconda/lib/python3.8/site-packages/IPython/core/interactiveshell.py:3444: DtypeWarning: Columns (8,13,19,22) have mixed types.Specify dtype option on import or set low_memory=False.\n",
      "  exec(code_obj, self.user_global_ns, self.user_ns)\n",
      "  9%|▉         | 8/86 [01:21<11:53,  9.15s/it]/opt/anaconda/lib/python3.8/site-packages/IPython/core/interactiveshell.py:3444: DtypeWarning: Columns (1,8,13,19,22) have mixed types.Specify dtype option on import or set low_memory=False.\n",
      "  exec(code_obj, self.user_global_ns, self.user_ns)\n",
      " 10%|█         | 9/86 [01:30<11:34,  9.01s/it]/opt/anaconda/lib/python3.8/site-packages/IPython/core/interactiveshell.py:3444: DtypeWarning: Columns (8) have mixed types.Specify dtype option on import or set low_memory=False.\n",
      "  exec(code_obj, self.user_global_ns, self.user_ns)\n",
      " 13%|█▎        | 11/86 [01:49<12:23,  9.91s/it]/opt/anaconda/lib/python3.8/site-packages/IPython/core/interactiveshell.py:3444: DtypeWarning: Columns (0,1,8,12,13,18,19,21,22) have mixed types.Specify dtype option on import or set low_memory=False.\n",
      "  exec(code_obj, self.user_global_ns, self.user_ns)\n",
      " 19%|█▊        | 16/86 [03:03<16:57, 14.53s/it]/opt/anaconda/lib/python3.8/site-packages/IPython/core/interactiveshell.py:3444: DtypeWarning: Columns (2,8) have mixed types.Specify dtype option on import or set low_memory=False.\n",
      "  exec(code_obj, self.user_global_ns, self.user_ns)\n",
      " 35%|███▍      | 30/86 [05:11<07:03,  7.57s/it]/opt/anaconda/lib/python3.8/site-packages/IPython/core/interactiveshell.py:3444: DtypeWarning: Columns (0,1,2,8,12,13,18,19,21,22) have mixed types.Specify dtype option on import or set low_memory=False.\n",
      "  exec(code_obj, self.user_global_ns, self.user_ns)\n",
      " 62%|██████▏   | 53/86 [10:03<03:43,  6.78s/it]/opt/anaconda/lib/python3.8/site-packages/IPython/core/interactiveshell.py:3444: DtypeWarning: Columns (1,2,8,12,13,18,19,21,22) have mixed types.Specify dtype option on import or set low_memory=False.\n",
      "  exec(code_obj, self.user_global_ns, self.user_ns)\n",
      "100%|██████████| 86/86 [17:24<00:00, 12.14s/it]"
     ]
    },
    {
     "name": "stdout",
     "output_type": "stream",
     "text": [
      "total_hadobj: 32453568\n",
      "total_parsed_chains: 32448994\n"
     ]
    },
    {
     "name": "stderr",
     "output_type": "stream",
     "text": [
      "\n"
     ]
    }
   ],
   "source": [
    "sample.create_table('hadobj', 'gar_source')\n",
    "sample.create_table('parsed_chains', 'gar_source')\n",
    "\n",
    "total_hadobj = 0\n",
    "total_parsed_chains = 0\n",
    "\n",
    "for r in tqdm(regions):\n",
    "    if f'{r}_hadobj.csv' in os.listdir(final_dir):     \n",
    "        hadobj = pd.read_csv(os.path.join(final_dir, f'{r}_hadobj.csv'), dtype={'isactive': 'Int64', 'isactual': 'Int64',\n",
    "                                                       'level': 'Int64', 'objectid': 'Int64'})\n",
    "        total_hadobj += len(hadobj)\n",
    "        sample.write_to_sql(hadobj, 'hadobj', 'gar_source')\n",
    "        #print(r)\n",
    "        #print(f'{r}_hadobj({len(hadobj)}) - loaded')\n",
    "    if f'{r}_parsed_chains.csv' in os.listdir(final_dir):\n",
    "        parsed_chains = pd.read_csv(os.path.join(final_dir, f'{r}_parsed_chains.csv'), dtype={\"l1\": 'Int64', \"l2\": 'Int64', \"l3\": 'Int64',\n",
    "                                                                     \"l4\": 'Int64', \"l5\": 'Int64', \"l6\": 'Int64',\n",
    "                                                                     \"l7\": 'Int64', \"l8\": 'Int64', \"l9\": 'Int64',\n",
    "                                                                     \"l10\": 'Int64',\n",
    "                                                                     'tow': 'Int64',\n",
    "                                                                     'mun': 'Int64',\n",
    "                                                                     'id_tow': 'Int64',\n",
    "                                                                     'id_mun': 'Int64',\n",
    "                                                                     'id_reg': 'Int64',\n",
    "                                                                     'street': 'Int64'}).rename(columns={'left':'leftover'})   \n",
    "        total_parsed_chains += len(parsed_chains)\n",
    "        sample.write_to_sql(parsed_chains, 'parsed_chains', 'gar_source')\n",
    "        #print(f'{r}_parsed_chains({len(parsed_chains)}) - loaded')\n",
    "    #break\n",
    "print(f'total_hadobj: {total_hadobj}')\n",
    "print(f'total_parsed_chains: {total_parsed_chains}')"
   ]
  },
  {
   "cell_type": "code",
   "execution_count": null,
   "id": "022c52f9",
   "metadata": {},
   "outputs": [],
   "source": []
  },
  {
   "cell_type": "code",
   "execution_count": null,
   "id": "8038ac27",
   "metadata": {},
   "outputs": [],
   "source": []
  }
 ],
 "metadata": {
  "kernelspec": {
   "display_name": "Python 3 (ipykernel)",
   "language": "python",
   "name": "python3"
  },
  "language_info": {
   "codemirror_mode": {
    "name": "ipython",
    "version": 3
   },
   "file_extension": ".py",
   "mimetype": "text/x-python",
   "name": "python",
   "nbconvert_exporter": "python",
   "pygments_lexer": "ipython3",
   "version": "3.8.12"
  }
 },
 "nbformat": 4,
 "nbformat_minor": 5
}
