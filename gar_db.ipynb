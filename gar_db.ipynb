{
 "cells": [
  {
   "cell_type": "code",
   "execution_count": 4,
   "id": "37e55a86",
   "metadata": {
    "scrolled": true
   },
   "outputs": [
    {
     "name": "stdout",
     "output_type": "stream",
     "text": [
      "Вы подключены к базе: temp_inid\n"
     ]
    }
   ],
   "source": [
    "#%pip install psycopg2-binary\n",
    "import pandas as pd\n",
    "from adding_tables_psycopg import AddingDataPsycopg\n",
    "sample = AddingDataPsycopg()"
   ]
  },
  {
   "cell_type": "code",
   "execution_count": 5,
   "id": "b15481cd",
   "metadata": {},
   "outputs": [],
   "source": [
    "import os\n",
    "from tqdm import tqdm\n",
    "regions = [i for i in os.listdir() if (len(i) == 2) and (not i in ['88', '81', '82', '80', '84', '85'])]\n",
    "data_dir = './'\n",
    "final_dir = './result'"
   ]
  },
  {
   "cell_type": "code",
   "execution_count": 8,
   "id": "498b7b1c",
   "metadata": {},
   "outputs": [
    {
     "name": "stderr",
     "output_type": "stream",
     "text": [
      "100%|██████████| 86/86 [14:47<00:00, 10.33s/it]"
     ]
    },
    {
     "name": "stdout",
     "output_type": "stream",
     "text": [
      "32453568\n",
      "31020379\n"
     ]
    },
    {
     "name": "stderr",
     "output_type": "stream",
     "text": [
      "\n"
     ]
    }
   ],
   "source": [
    "sample.create_table('hadobj', 'gar_source')\n",
    "sample.create_table('parsed_chains', 'gar_source')\n",
    "\n",
    "total_hadobj = 0\n",
    "total_parsed_chains = 0\n",
    "\n",
    "for r in tqdm(regions):\n",
    "    if f'{r}_hadobj.csv' in os.listdir(final_dir):     \n",
    "        hadobj = pd.read_csv(os.path.join(final_dir, f'{r}_hadobj.csv'), dtype={'isactive': 'Int64', 'isactual': 'Int64',\n",
    "                                                       'level': 'Int64', 'objectid': 'Int64'})\n",
    "        total_hadobj += len(hadobj)\n",
    "        sample.write_to_sql(hadobj, 'hadobj', 'gar_source')\n",
    "        #print(r)\n",
    "        #print(f'{r}_hadobj({len(hadobj)}) - loaded')\n",
    "    if f'{r}_parsed_chains.csv' in os.listdir(final_dir):\n",
    "        parsed_chains = pd.read_csv(os.path.join(final_dir, f'{r}_parsed_chains.csv'), dtype={\"1\": 'Int64', \"2\": 'Int64', \"3\": 'Int64',\n",
    "                                                                     \"4\": 'Int64', \"5\": 'Int64', \"6\": 'Int64',\n",
    "                                                                     \"7\": 'Int64', \"8\": 'Int64', \"9\": 'Int64',\n",
    "                                                                     \"10\": 'Int64',\n",
    "                                                                     'tow': 'Int64',\n",
    "                                                                     'mun': 'Int64',\n",
    "                                                                     'id_tow': 'Int64',\n",
    "                                                                     'id_mun': 'Int64',\n",
    "                                                                     'id_reg': 'Int64',\n",
    "                                                                     'street': 'Int64'})   \n",
    "        total_parsed_chains += len(parsed_chains)\n",
    "        sample.write_to_sql(parsed_chains, 'parsed_chains', 'gar_source')\n",
    "        #print(f'{r}_parsed_chains({len(parsed_chains)}) - loaded')\n",
    "    break\n",
    "print(f'total_hadobj: {total_hadobj}')\n",
    "print(f'total_parsed_chains: {total_parsed_chains}')"
   ]
  },
  {
   "cell_type": "code",
   "execution_count": null,
   "id": "022c52f9",
   "metadata": {},
   "outputs": [],
   "source": []
  },
  {
   "cell_type": "code",
   "execution_count": null,
   "id": "8038ac27",
   "metadata": {},
   "outputs": [],
   "source": []
  }
 ],
 "metadata": {
  "kernelspec": {
   "display_name": "Python 3 (ipykernel)",
   "language": "python",
   "name": "python3"
  },
  "language_info": {
   "codemirror_mode": {
    "name": "ipython",
    "version": 3
   },
   "file_extension": ".py",
   "mimetype": "text/x-python",
   "name": "python",
   "nbconvert_exporter": "python",
   "pygments_lexer": "ipython3",
   "version": "3.8.12"
  }
 },
 "nbformat": 4,
 "nbformat_minor": 5
}
