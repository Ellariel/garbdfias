{
 "cells": [
  {
   "cell_type": "code",
   "execution_count": 1,
   "id": "b2ca6ede",
   "metadata": {},
   "outputs": [],
   "source": [
    "%%capture\n",
    "!pip install numpy==1.21.4\n",
    "!pip install pandas==1.3.4\n",
    "!pip install loguru==0.5.3"
   ]
  },
  {
   "cell_type": "code",
   "execution_count": 4,
   "id": "def9d3af",
   "metadata": {},
   "outputs": [],
   "source": [
    "import sys\n",
    "import os\n",
    "from tqdm import tqdm\n",
    "data_dir = './'\n",
    "final_dir = './result'\n",
    "regions = [i for i in os.listdir(data_dir) if (len(i) == 2) and (not i in ['88', '81', '82', '80', '84', '85'])]"
   ]
  },
  {
   "cell_type": "code",
   "execution_count": 12,
   "id": "9286ae19",
   "metadata": {
    "scrolled": true
   },
   "outputs": [
    {
     "name": "stdout",
     "output_type": "stream",
     "text": [
      "./ ./43 ./result\n",
      "chready: True\n"
     ]
    },
    {
     "name": "stderr",
     "output_type": "stream",
     "text": [
      "100%|██████████| 328256/328256 [00:00<00:00, 574356.01it/s]\n",
      "100%|██████████| 328256/328256 [00:01<00:00, 169988.51it/s]\n"
     ]
    },
    {
     "name": "stdout",
     "output_type": "stream",
     "text": [
      "./ ./30 ./result\n",
      "chready: True\n"
     ]
    },
    {
     "name": "stderr",
     "output_type": "stream",
     "text": [
      "100%|██████████| 265600/265600 [00:00<00:00, 545523.04it/s]\n",
      "100%|██████████| 265600/265600 [00:01<00:00, 176853.54it/s]\n"
     ]
    },
    {
     "name": "stdout",
     "output_type": "stream",
     "text": [
      "./ ./91 ./result\n",
      "chready: True\n"
     ]
    },
    {
     "name": "stderr",
     "output_type": "stream",
     "text": [
      "100%|██████████| 504021/504021 [00:00<00:00, 632037.05it/s]\n",
      "100%|██████████| 504021/504021 [00:03<00:00, 166728.85it/s]\n"
     ]
    },
    {
     "name": "stdout",
     "output_type": "stream",
     "text": [
      "./ ./73 ./result\n",
      "chready: True\n"
     ]
    },
    {
     "name": "stderr",
     "output_type": "stream",
     "text": [
      "100%|██████████| 279474/279474 [00:00<00:00, 520332.55it/s]\n",
      "100%|██████████| 279474/279474 [00:01<00:00, 169563.06it/s]\n"
     ]
    },
    {
     "name": "stdout",
     "output_type": "stream",
     "text": [
      "./ ./31 ./result\n",
      "chready: True\n"
     ]
    },
    {
     "name": "stderr",
     "output_type": "stream",
     "text": [
      "100%|██████████| 560673/560673 [00:00<00:00, 603121.08it/s]\n",
      "100%|██████████| 560673/560673 [00:03<00:00, 173713.66it/s]\n"
     ]
    },
    {
     "name": "stdout",
     "output_type": "stream",
     "text": [
      "./ ./99 ./result\n",
      "chready: True\n"
     ]
    },
    {
     "name": "stderr",
     "output_type": "stream",
     "text": [
      "100%|██████████| 536/536 [00:00<00:00, 651825.73it/s]\n",
      "100%|██████████| 536/536 [00:00<00:00, 432502.30it/s]\n"
     ]
    },
    {
     "name": "stdout",
     "output_type": "stream",
     "text": [
      "./ ./46 ./result\n",
      "chready: True\n"
     ]
    },
    {
     "name": "stderr",
     "output_type": "stream",
     "text": [
      "100%|██████████| 338539/338539 [00:00<00:00, 574254.00it/s]\n",
      "100%|██████████| 338539/338539 [00:01<00:00, 182092.74it/s]\n"
     ]
    },
    {
     "name": "stdout",
     "output_type": "stream",
     "text": [
      "./ ./13 ./result\n",
      "chready: True\n"
     ]
    },
    {
     "name": "stderr",
     "output_type": "stream",
     "text": [
      "100%|██████████| 241046/241046 [00:00<00:00, 575177.63it/s]\n",
      "100%|██████████| 241046/241046 [00:01<00:00, 184766.41it/s]\n"
     ]
    },
    {
     "name": "stdout",
     "output_type": "stream",
     "text": [
      "./ ./67 ./result\n",
      "chready: True\n"
     ]
    },
    {
     "name": "stderr",
     "output_type": "stream",
     "text": [
      "100%|██████████| 264580/264580 [00:00<00:00, 568267.35it/s]\n",
      "100%|██████████| 264580/264580 [00:01<00:00, 173874.93it/s]\n"
     ]
    },
    {
     "name": "stdout",
     "output_type": "stream",
     "text": [
      "./ ./06 ./result\n",
      "chready: True\n"
     ]
    },
    {
     "name": "stderr",
     "output_type": "stream",
     "text": [
      "100%|██████████| 89025/89025 [00:00<00:00, 578079.78it/s]\n",
      "100%|██████████| 89025/89025 [00:00<00:00, 216912.10it/s]\n"
     ]
    },
    {
     "name": "stdout",
     "output_type": "stream",
     "text": [
      "./ ./56 ./result\n",
      "chready: True\n"
     ]
    },
    {
     "name": "stderr",
     "output_type": "stream",
     "text": [
      "100%|██████████| 504777/504777 [00:00<00:00, 601784.04it/s]\n",
      "100%|██████████| 504777/504777 [00:03<00:00, 166649.98it/s]\n"
     ]
    },
    {
     "name": "stdout",
     "output_type": "stream",
     "text": [
      "./ ./16 ./result\n",
      "chready: True\n"
     ]
    },
    {
     "name": "stderr",
     "output_type": "stream",
     "text": [
      "100%|██████████| 956755/956755 [00:01<00:00, 536131.94it/s]\n",
      "100%|██████████| 956755/956755 [00:06<00:00, 140081.88it/s]\n"
     ]
    },
    {
     "name": "stdout",
     "output_type": "stream",
     "text": [
      "./ ./49 ./result\n",
      "chready: True\n"
     ]
    },
    {
     "name": "stderr",
     "output_type": "stream",
     "text": [
      "100%|██████████| 12158/12158 [00:00<00:00, 447825.59it/s]\n",
      "100%|██████████| 12158/12158 [00:00<00:00, 245740.50it/s]\n"
     ]
    },
    {
     "name": "stdout",
     "output_type": "stream",
     "text": [
      "./ ./53 ./result\n",
      "chready: True\n"
     ]
    },
    {
     "name": "stderr",
     "output_type": "stream",
     "text": [
      "100%|██████████| 251991/251991 [00:00<00:00, 590754.67it/s]\n",
      "100%|██████████| 251991/251991 [00:01<00:00, 180818.82it/s]\n"
     ]
    },
    {
     "name": "stdout",
     "output_type": "stream",
     "text": [
      "./ ./44 ./result\n",
      "chready: True\n"
     ]
    },
    {
     "name": "stderr",
     "output_type": "stream",
     "text": [
      "100%|██████████| 188323/188323 [00:00<00:00, 560945.70it/s]\n",
      "100%|██████████| 188323/188323 [00:00<00:00, 194777.64it/s]\n"
     ]
    },
    {
     "name": "stdout",
     "output_type": "stream",
     "text": [
      "./ ./52 ./result\n",
      "chready: True\n"
     ]
    },
    {
     "name": "stderr",
     "output_type": "stream",
     "text": [
      "100%|██████████| 825616/825616 [00:01<00:00, 645576.96it/s]\n",
      "100%|██████████| 825616/825616 [00:05<00:00, 156276.83it/s]\n"
     ]
    },
    {
     "name": "stdout",
     "output_type": "stream",
     "text": [
      "./ ./40 ./result\n",
      "chready: True\n"
     ]
    },
    {
     "name": "stderr",
     "output_type": "stream",
     "text": [
      "100%|██████████| 405531/405531 [00:00<00:00, 585952.23it/s]\n",
      "100%|██████████| 405531/405531 [00:02<00:00, 165583.83it/s]\n"
     ]
    },
    {
     "name": "stdout",
     "output_type": "stream",
     "text": [
      "./ ./14 ./result\n",
      "chready: True\n"
     ]
    },
    {
     "name": "stderr",
     "output_type": "stream",
     "text": [
      "100%|██████████| 230378/230378 [00:00<00:00, 537524.10it/s]\n",
      "100%|██████████| 230378/230378 [00:01<00:00, 168249.12it/s]\n"
     ]
    },
    {
     "name": "stdout",
     "output_type": "stream",
     "text": [
      "./ ./41 ./result\n",
      "chready: True\n"
     ]
    },
    {
     "name": "stderr",
     "output_type": "stream",
     "text": [
      "100%|██████████| 28145/28145 [00:00<00:00, 416180.22it/s]\n",
      "100%|██████████| 28145/28145 [00:00<00:00, 190869.66it/s]\n"
     ]
    },
    {
     "name": "stdout",
     "output_type": "stream",
     "text": [
      "./ ./26 ./result\n",
      "chready: True\n"
     ]
    },
    {
     "name": "stderr",
     "output_type": "stream",
     "text": [
      "100%|██████████| 779407/779407 [00:01<00:00, 640056.60it/s]\n",
      "100%|██████████| 779407/779407 [00:04<00:00, 174540.57it/s]\n"
     ]
    },
    {
     "name": "stdout",
     "output_type": "stream",
     "text": [
      "./ ./78 ./result\n",
      "chready: True\n"
     ]
    },
    {
     "name": "stderr",
     "output_type": "stream",
     "text": [
      "100%|██████████| 137157/137157 [00:00<00:00, 564217.79it/s]\n",
      "100%|██████████| 137157/137157 [00:00<00:00, 215403.59it/s]\n"
     ]
    },
    {
     "name": "stdout",
     "output_type": "stream",
     "text": [
      "./ ./68 ./result\n",
      "chready: True\n"
     ]
    },
    {
     "name": "stderr",
     "output_type": "stream",
     "text": [
      "100%|██████████| 359478/359478 [00:00<00:00, 537234.73it/s]\n",
      "100%|██████████| 359478/359478 [00:02<00:00, 157853.41it/s]\n"
     ]
    },
    {
     "name": "stdout",
     "output_type": "stream",
     "text": [
      "./ ./65 ./result\n",
      "chready: True\n"
     ]
    },
    {
     "name": "stderr",
     "output_type": "stream",
     "text": [
      "100%|██████████| 63012/63012 [00:00<00:00, 530969.14it/s]\n",
      "100%|██████████| 63012/63012 [00:00<00:00, 211061.55it/s]\n"
     ]
    },
    {
     "name": "stdout",
     "output_type": "stream",
     "text": [
      "./ ./76 ./result\n",
      "chready: True\n"
     ]
    },
    {
     "name": "stderr",
     "output_type": "stream",
     "text": [
      "100%|██████████| 276610/276610 [00:00<00:00, 572130.87it/s]\n",
      "100%|██████████| 276610/276610 [00:01<00:00, 177947.23it/s]\n"
     ]
    },
    {
     "name": "stdout",
     "output_type": "stream",
     "text": [
      "./ ./63 ./result\n",
      "chready: True\n"
     ]
    },
    {
     "name": "stderr",
     "output_type": "stream",
     "text": [
      "100%|██████████| 498904/498904 [00:00<00:00, 541390.10it/s]\n",
      "100%|██████████| 498904/498904 [00:03<00:00, 155769.22it/s]\n"
     ]
    },
    {
     "name": "stdout",
     "output_type": "stream",
     "text": [
      "./ ./54 ./result\n",
      "chready: True\n"
     ]
    },
    {
     "name": "stderr",
     "output_type": "stream",
     "text": [
      "100%|██████████| 501542/501542 [00:00<00:00, 556963.41it/s]\n",
      "100%|██████████| 501542/501542 [00:03<00:00, 150528.24it/s]\n"
     ]
    },
    {
     "name": "stdout",
     "output_type": "stream",
     "text": [
      "./ ./35 ./result\n",
      "chready: True\n"
     ]
    },
    {
     "name": "stderr",
     "output_type": "stream",
     "text": [
      "100%|██████████| 317811/317811 [00:00<00:00, 525756.82it/s]\n",
      "100%|██████████| 317811/317811 [00:01<00:00, 160164.08it/s]\n"
     ]
    },
    {
     "name": "stdout",
     "output_type": "stream",
     "text": [
      "./ ./15 ./result\n",
      "chready: True\n"
     ]
    },
    {
     "name": "stderr",
     "output_type": "stream",
     "text": [
      "100%|██████████| 136444/136444 [00:00<00:00, 488598.93it/s]\n",
      "100%|██████████| 136444/136444 [00:00<00:00, 201700.77it/s]\n"
     ]
    },
    {
     "name": "stdout",
     "output_type": "stream",
     "text": [
      "./ ./10 ./result\n",
      "chready: True\n"
     ]
    },
    {
     "name": "stderr",
     "output_type": "stream",
     "text": [
      "100%|██████████| 97428/97428 [00:00<00:00, 512629.56it/s]\n",
      "100%|██████████| 97428/97428 [00:00<00:00, 195436.68it/s]\n"
     ]
    },
    {
     "name": "stdout",
     "output_type": "stream",
     "text": [
      "./ ./50 ./result\n",
      "chready: True\n"
     ]
    },
    {
     "name": "stderr",
     "output_type": "stream",
     "text": [
      "100%|██████████| 1745392/1745392 [00:02<00:00, 670146.02it/s]\n",
      "100%|██████████| 1745392/1745392 [00:11<00:00, 153647.15it/s]\n"
     ]
    },
    {
     "name": "stdout",
     "output_type": "stream",
     "text": [
      "./ ./29 ./result\n",
      "chready: True\n"
     ]
    },
    {
     "name": "stderr",
     "output_type": "stream",
     "text": [
      "100%|██████████| 238863/238863 [00:00<00:00, 511936.61it/s]\n",
      "100%|██████████| 238863/238863 [00:01<00:00, 176979.01it/s]\n"
     ]
    },
    {
     "name": "stdout",
     "output_type": "stream",
     "text": [
      "./ ./28 ./result\n",
      "chready: True\n"
     ]
    },
    {
     "name": "stderr",
     "output_type": "stream",
     "text": [
      "100%|██████████| 172804/172804 [00:00<00:00, 539391.31it/s]\n",
      "100%|██████████| 172804/172804 [00:00<00:00, 202196.65it/s]\n"
     ]
    },
    {
     "name": "stdout",
     "output_type": "stream",
     "text": [
      "./ ./48 ./result\n",
      "chready: True\n"
     ]
    },
    {
     "name": "stderr",
     "output_type": "stream",
     "text": [
      "100%|██████████| 308800/308800 [00:00<00:00, 536502.20it/s]\n",
      "100%|██████████| 308800/308800 [00:01<00:00, 191985.20it/s]\n"
     ]
    },
    {
     "name": "stdout",
     "output_type": "stream",
     "text": [
      "./ ./02 ./result\n",
      "chready: True\n"
     ]
    },
    {
     "name": "stderr",
     "output_type": "stream",
     "text": [
      "100%|██████████| 1094103/1094103 [00:02<00:00, 526148.70it/s]\n",
      "100%|██████████| 1094103/1094103 [00:07<00:00, 137732.74it/s]\n"
     ]
    },
    {
     "name": "stdout",
     "output_type": "stream",
     "text": [
      "./ ./62 ./result\n",
      "chready: True\n"
     ]
    },
    {
     "name": "stderr",
     "output_type": "stream",
     "text": [
      "100%|██████████| 353249/353249 [00:00<00:00, 517139.52it/s]\n",
      "100%|██████████| 353249/353249 [00:02<00:00, 163388.93it/s]\n"
     ]
    },
    {
     "name": "stdout",
     "output_type": "stream",
     "text": [
      "./ ./47 ./result\n",
      "chready: True\n"
     ]
    },
    {
     "name": "stderr",
     "output_type": "stream",
     "text": [
      "100%|██████████| 593519/593519 [00:01<00:00, 541853.87it/s]\n",
      "100%|██████████| 593519/593519 [00:04<00:00, 142399.53it/s]\n"
     ]
    },
    {
     "name": "stdout",
     "output_type": "stream",
     "text": [
      "./ ./60 ./result\n",
      "chready: True\n"
     ]
    },
    {
     "name": "stderr",
     "output_type": "stream",
     "text": [
      "100%|██████████| 239715/239715 [00:00<00:00, 490619.86it/s]\n",
      "100%|██████████| 239715/239715 [00:01<00:00, 182942.21it/s]\n"
     ]
    },
    {
     "name": "stdout",
     "output_type": "stream",
     "text": [
      "./ ./45 ./result\n",
      "chready: True\n"
     ]
    },
    {
     "name": "stderr",
     "output_type": "stream",
     "text": [
      "100%|██████████| 274516/274516 [00:00<00:00, 539281.16it/s]\n",
      "100%|██████████| 274516/274516 [00:01<00:00, 166793.28it/s]\n"
     ]
    },
    {
     "name": "stdout",
     "output_type": "stream",
     "text": [
      "./ ./57 ./result\n",
      "chready: True\n"
     ]
    },
    {
     "name": "stderr",
     "output_type": "stream",
     "text": [
      "100%|██████████| 226529/226529 [00:00<00:00, 554950.28it/s]\n",
      "100%|██████████| 226529/226529 [00:01<00:00, 183067.43it/s]\n"
     ]
    },
    {
     "name": "stdout",
     "output_type": "stream",
     "text": [
      "./ ./72 ./result\n",
      "chready: True\n"
     ]
    },
    {
     "name": "stderr",
     "output_type": "stream",
     "text": [
      "100%|██████████| 328686/328686 [00:00<00:00, 573259.81it/s]\n",
      "100%|██████████| 328686/328686 [00:01<00:00, 184657.31it/s]\n"
     ]
    },
    {
     "name": "stdout",
     "output_type": "stream",
     "text": [
      "./ ./69 ./result\n",
      "chready: True\n"
     ]
    },
    {
     "name": "stderr",
     "output_type": "stream",
     "text": [
      "100%|██████████| 510601/510601 [00:00<00:00, 630783.83it/s]\n",
      "100%|██████████| 510601/510601 [00:03<00:00, 162841.16it/s]\n"
     ]
    },
    {
     "name": "stdout",
     "output_type": "stream",
     "text": [
      "./ ./77 ./result\n",
      "chready: True\n"
     ]
    },
    {
     "name": "stderr",
     "output_type": "stream",
     "text": [
      "100%|██████████| 293863/293863 [00:00<00:00, 575900.71it/s]\n",
      "100%|██████████| 293863/293863 [00:01<00:00, 202498.48it/s]\n"
     ]
    },
    {
     "name": "stdout",
     "output_type": "stream",
     "text": [
      "./ ./59 ./result\n",
      "chready: True\n"
     ]
    },
    {
     "name": "stderr",
     "output_type": "stream",
     "text": [
      "100%|██████████| 655695/655695 [00:01<00:00, 529928.48it/s]\n",
      "100%|██████████| 655695/655695 [00:04<00:00, 160951.05it/s]\n"
     ]
    },
    {
     "name": "stdout",
     "output_type": "stream",
     "text": [
      "./ ./19 ./result\n",
      "chready: True\n"
     ]
    },
    {
     "name": "stderr",
     "output_type": "stream",
     "text": [
      "100%|██████████| 154433/154433 [00:00<00:00, 514481.95it/s]\n",
      "100%|██████████| 154433/154433 [00:00<00:00, 185480.30it/s]\n"
     ]
    },
    {
     "name": "stdout",
     "output_type": "stream",
     "text": [
      "./ ./18 ./result\n",
      "chready: True\n"
     ]
    },
    {
     "name": "stderr",
     "output_type": "stream",
     "text": [
      "100%|██████████| 427146/427146 [00:00<00:00, 626886.28it/s]\n",
      "100%|██████████| 427146/427146 [00:02<00:00, 178092.21it/s]\n"
     ]
    },
    {
     "name": "stdout",
     "output_type": "stream",
     "text": [
      "./ ./89 ./result\n",
      "chready: True\n"
     ]
    },
    {
     "name": "stderr",
     "output_type": "stream",
     "text": [
      "100%|██████████| 51146/51146 [00:00<00:00, 493214.96it/s]\n",
      "100%|██████████| 51146/51146 [00:00<00:00, 215910.83it/s]\n"
     ]
    },
    {
     "name": "stdout",
     "output_type": "stream",
     "text": [
      "./ ./83 ./result\n",
      "chready: True\n"
     ]
    },
    {
     "name": "stderr",
     "output_type": "stream",
     "text": [
      "100%|██████████| 7255/7255 [00:00<00:00, 453998.08it/s]\n",
      "100%|██████████| 7255/7255 [00:00<00:00, 260167.20it/s]\n"
     ]
    },
    {
     "name": "stdout",
     "output_type": "stream",
     "text": [
      "./ ./36 ./result\n",
      "chready: True\n"
     ]
    },
    {
     "name": "stderr",
     "output_type": "stream",
     "text": [
      "100%|██████████| 775799/775799 [00:01<00:00, 562410.52it/s]\n",
      "100%|██████████| 775799/775799 [00:05<00:00, 151444.25it/s]\n"
     ]
    },
    {
     "name": "stdout",
     "output_type": "stream",
     "text": [
      "./ ./37 ./result\n",
      "chready: True\n"
     ]
    },
    {
     "name": "stderr",
     "output_type": "stream",
     "text": [
      "100%|██████████| 261384/261384 [00:00<00:00, 536820.04it/s]\n",
      "100%|██████████| 261384/261384 [00:01<00:00, 192311.62it/s]\n"
     ]
    },
    {
     "name": "stdout",
     "output_type": "stream",
     "text": [
      "./ ./08 ./result\n",
      "chready: True\n"
     ]
    },
    {
     "name": "stderr",
     "output_type": "stream",
     "text": [
      "100%|██████████| 76484/76484 [00:00<00:00, 557525.09it/s]\n",
      "100%|██████████| 76484/76484 [00:00<00:00, 216904.46it/s]\n"
     ]
    },
    {
     "name": "stdout",
     "output_type": "stream",
     "text": [
      "./ ./03 ./result\n",
      "chready: True\n"
     ]
    },
    {
     "name": "stderr",
     "output_type": "stream",
     "text": [
      "100%|██████████| 245307/245307 [00:00<00:00, 546045.15it/s]\n",
      "100%|██████████| 245307/245307 [00:01<00:00, 169890.91it/s]\n"
     ]
    },
    {
     "name": "stdout",
     "output_type": "stream",
     "text": [
      "./ ./09 ./result\n",
      "chready: True\n"
     ]
    },
    {
     "name": "stderr",
     "output_type": "stream",
     "text": [
      "100%|██████████| 111828/111828 [00:00<00:00, 572990.92it/s]\n",
      "100%|██████████| 111828/111828 [00:00<00:00, 178814.50it/s]\n"
     ]
    },
    {
     "name": "stdout",
     "output_type": "stream",
     "text": [
      "./ ./55 ./result\n",
      "chready: True\n"
     ]
    },
    {
     "name": "stderr",
     "output_type": "stream",
     "text": [
      "100%|██████████| 498791/498791 [00:00<00:00, 605256.99it/s]\n",
      "100%|██████████| 498791/498791 [00:02<00:00, 169669.24it/s]\n"
     ]
    },
    {
     "name": "stdout",
     "output_type": "stream",
     "text": [
      "./ ./12 ./result\n",
      "chready: True\n"
     ]
    },
    {
     "name": "stderr",
     "output_type": "stream",
     "text": [
      "100%|██████████| 211443/211443 [00:00<00:00, 519983.45it/s]\n",
      "100%|██████████| 211443/211443 [00:01<00:00, 178406.93it/s]\n"
     ]
    },
    {
     "name": "stdout",
     "output_type": "stream",
     "text": [
      "./ ./20 ./result\n",
      "chready: True\n"
     ]
    },
    {
     "name": "stderr",
     "output_type": "stream",
     "text": [
      "100%|██████████| 317285/317285 [00:00<00:00, 600459.12it/s]\n",
      "100%|██████████| 317285/317285 [00:01<00:00, 175480.64it/s]\n"
     ]
    },
    {
     "name": "stdout",
     "output_type": "stream",
     "text": [
      "./ ./51 ./result\n",
      "chready: True\n"
     ]
    },
    {
     "name": "stderr",
     "output_type": "stream",
     "text": [
      "100%|██████████| 44030/44030 [00:00<00:00, 527827.43it/s]\n",
      "100%|██████████| 44030/44030 [00:00<00:00, 220080.69it/s]\n"
     ]
    },
    {
     "name": "stdout",
     "output_type": "stream",
     "text": [
      "./ ./74 ./result\n",
      "chready: True\n"
     ]
    },
    {
     "name": "stderr",
     "output_type": "stream",
     "text": [
      "100%|██████████| 769623/769623 [00:01<00:00, 584241.04it/s]\n",
      "100%|██████████| 769623/769623 [00:04<00:00, 160316.91it/s]\n"
     ]
    },
    {
     "name": "stdout",
     "output_type": "stream",
     "text": [
      "./ ./21 ./result\n",
      "chready: True\n"
     ]
    },
    {
     "name": "stderr",
     "output_type": "stream",
     "text": [
      "100%|██████████| 312599/312599 [00:00<00:00, 542644.85it/s]\n",
      "100%|██████████| 312599/312599 [00:01<00:00, 162894.95it/s]\n"
     ]
    },
    {
     "name": "stdout",
     "output_type": "stream",
     "text": [
      "./ ./22 ./result\n",
      "chready: True\n"
     ]
    },
    {
     "name": "stderr",
     "output_type": "stream",
     "text": [
      "100%|██████████| 619907/619907 [00:01<00:00, 555974.68it/s]\n",
      "100%|██████████| 619907/619907 [00:04<00:00, 151586.57it/s]\n"
     ]
    },
    {
     "name": "stdout",
     "output_type": "stream",
     "text": [
      "./ ./17 ./result\n",
      "chready: True\n"
     ]
    },
    {
     "name": "stderr",
     "output_type": "stream",
     "text": [
      "100%|██████████| 60045/60045 [00:00<00:00, 517545.56it/s]\n",
      "100%|██████████| 60045/60045 [00:00<00:00, 211361.88it/s]\n"
     ]
    },
    {
     "name": "stdout",
     "output_type": "stream",
     "text": [
      "./ ./66 ./result\n",
      "chready: True\n"
     ]
    },
    {
     "name": "stderr",
     "output_type": "stream",
     "text": [
      "100%|██████████| 904128/904128 [00:01<00:00, 614681.59it/s]\n",
      "100%|██████████| 904128/904128 [00:05<00:00, 162152.15it/s]\n"
     ]
    },
    {
     "name": "stdout",
     "output_type": "stream",
     "text": [
      "./ ./71 ./result\n",
      "chready: True\n"
     ]
    },
    {
     "name": "stderr",
     "output_type": "stream",
     "text": [
      "100%|██████████| 307795/307795 [00:00<00:00, 553001.47it/s]\n",
      "100%|██████████| 307795/307795 [00:01<00:00, 164670.46it/s]\n"
     ]
    },
    {
     "name": "stdout",
     "output_type": "stream",
     "text": [
      "./ ./32 ./result\n",
      "chready: True\n"
     ]
    },
    {
     "name": "stderr",
     "output_type": "stream",
     "text": [
      "100%|██████████| 413035/413035 [00:00<00:00, 583378.30it/s]\n",
      "100%|██████████| 413035/413035 [00:02<00:00, 167488.48it/s]\n"
     ]
    },
    {
     "name": "stdout",
     "output_type": "stream",
     "text": [
      "./ ./42 ./result\n",
      "chready: True\n"
     ]
    },
    {
     "name": "stderr",
     "output_type": "stream",
     "text": [
      "100%|██████████| 581781/581781 [00:00<00:00, 660394.35it/s]\n",
      "100%|██████████| 581781/581781 [00:03<00:00, 163930.04it/s]\n"
     ]
    },
    {
     "name": "stdout",
     "output_type": "stream",
     "text": [
      "./ ./39 ./result\n",
      "chready: True\n"
     ]
    },
    {
     "name": "stderr",
     "output_type": "stream",
     "text": [
      "100%|██████████| 155766/155766 [00:00<00:00, 492171.39it/s]\n",
      "100%|██████████| 155766/155766 [00:00<00:00, 179195.85it/s]\n"
     ]
    },
    {
     "name": "stdout",
     "output_type": "stream",
     "text": [
      "./ ./25 ./result\n",
      "chready: True\n"
     ]
    },
    {
     "name": "stderr",
     "output_type": "stream",
     "text": [
      "100%|██████████| 300463/300463 [00:00<00:00, 566895.80it/s]\n",
      "100%|██████████| 300463/300463 [00:01<00:00, 194443.19it/s]\n"
     ]
    },
    {
     "name": "stdout",
     "output_type": "stream",
     "text": [
      "./ ./11 ./result\n",
      "chready: True\n"
     ]
    },
    {
     "name": "stderr",
     "output_type": "stream",
     "text": [
      "100%|██████████| 151581/151581 [00:00<00:00, 475063.34it/s]\n",
      "100%|██████████| 151581/151581 [00:00<00:00, 192358.16it/s]\n"
     ]
    },
    {
     "name": "stdout",
     "output_type": "stream",
     "text": [
      "./ ./38 ./result\n",
      "chready: True\n"
     ]
    },
    {
     "name": "stderr",
     "output_type": "stream",
     "text": [
      "100%|██████████| 488361/488361 [00:00<00:00, 586073.16it/s]\n",
      "100%|██████████| 488361/488361 [00:03<00:00, 155487.02it/s]\n"
     ]
    },
    {
     "name": "stdout",
     "output_type": "stream",
     "text": [
      "./ ./23 ./result\n",
      "chready: True\n"
     ]
    },
    {
     "name": "stderr",
     "output_type": "stream",
     "text": [
      "100%|██████████| 1761860/1761860 [00:03<00:00, 559062.29it/s]\n",
      "100%|██████████| 1761860/1761860 [00:12<00:00, 136530.21it/s]\n"
     ]
    },
    {
     "name": "stdout",
     "output_type": "stream",
     "text": [
      "./ ./34 ./result\n",
      "chready: True\n"
     ]
    },
    {
     "name": "stderr",
     "output_type": "stream",
     "text": [
      "100%|██████████| 706210/706210 [00:01<00:00, 522179.11it/s]\n",
      "100%|██████████| 706210/706210 [00:04<00:00, 148382.06it/s]\n"
     ]
    },
    {
     "name": "stdout",
     "output_type": "stream",
     "text": [
      "./ ./24 ./result\n",
      "chready: True\n"
     ]
    },
    {
     "name": "stderr",
     "output_type": "stream",
     "text": [
      "100%|██████████| 670875/670875 [00:01<00:00, 534414.90it/s]\n",
      "100%|██████████| 670875/670875 [00:04<00:00, 156659.38it/s]\n"
     ]
    },
    {
     "name": "stdout",
     "output_type": "stream",
     "text": [
      "./ ./07 ./result\n",
      "chready: True\n"
     ]
    },
    {
     "name": "stderr",
     "output_type": "stream",
     "text": [
      "100%|██████████| 179487/179487 [00:00<00:00, 536358.43it/s]\n",
      "100%|██████████| 179487/179487 [00:00<00:00, 204359.68it/s]\n"
     ]
    },
    {
     "name": "stdout",
     "output_type": "stream",
     "text": [
      "./ ./05 ./result\n",
      "chready: True\n"
     ]
    },
    {
     "name": "stderr",
     "output_type": "stream",
     "text": [
      "100%|██████████| 630333/630333 [00:01<00:00, 607993.54it/s]\n",
      "100%|██████████| 630333/630333 [00:03<00:00, 174238.03it/s]\n"
     ]
    },
    {
     "name": "stdout",
     "output_type": "stream",
     "text": [
      "./ ./70 ./result\n",
      "chready: True\n"
     ]
    },
    {
     "name": "stderr",
     "output_type": "stream",
     "text": [
      "100%|██████████| 234351/234351 [00:00<00:00, 484862.93it/s]\n",
      "100%|██████████| 234351/234351 [00:01<00:00, 168434.31it/s]\n"
     ]
    },
    {
     "name": "stdout",
     "output_type": "stream",
     "text": [
      "./ ./75 ./result\n",
      "chready: True\n"
     ]
    },
    {
     "name": "stderr",
     "output_type": "stream",
     "text": [
      "100%|██████████| 253214/253214 [00:00<00:00, 557445.59it/s]\n",
      "100%|██████████| 253214/253214 [00:01<00:00, 159711.27it/s]\n"
     ]
    },
    {
     "name": "stdout",
     "output_type": "stream",
     "text": [
      "./ ./79 ./result\n",
      "chready: True\n"
     ]
    },
    {
     "name": "stderr",
     "output_type": "stream",
     "text": [
      "100%|██████████| 30837/30837 [00:00<00:00, 456901.77it/s]\n",
      "100%|██████████| 30837/30837 [00:00<00:00, 205991.10it/s]\n"
     ]
    },
    {
     "name": "stdout",
     "output_type": "stream",
     "text": [
      "./ ./27 ./result\n",
      "chready: True\n"
     ]
    },
    {
     "name": "stderr",
     "output_type": "stream",
     "text": [
      "100%|██████████| 135577/135577 [00:00<00:00, 517286.66it/s]\n",
      "100%|██████████| 135577/135577 [00:00<00:00, 187359.65it/s]\n"
     ]
    },
    {
     "name": "stdout",
     "output_type": "stream",
     "text": [
      "./ ./33 ./result\n",
      "chready: True\n"
     ]
    },
    {
     "name": "stderr",
     "output_type": "stream",
     "text": [
      "100%|██████████| 432190/432190 [00:00<00:00, 545398.22it/s]\n",
      "100%|██████████| 432190/432190 [00:02<00:00, 179375.76it/s]\n"
     ]
    },
    {
     "name": "stdout",
     "output_type": "stream",
     "text": [
      "./ ./04 ./result\n",
      "chready: True\n"
     ]
    },
    {
     "name": "stderr",
     "output_type": "stream",
     "text": [
      "100%|██████████| 84014/84014 [00:00<00:00, 530537.35it/s]\n",
      "100%|██████████| 84014/84014 [00:00<00:00, 217089.32it/s]\n"
     ]
    },
    {
     "name": "stdout",
     "output_type": "stream",
     "text": [
      "./ ./64 ./result\n",
      "chready: True\n"
     ]
    },
    {
     "name": "stderr",
     "output_type": "stream",
     "text": [
      "100%|██████████| 625628/625628 [00:01<00:00, 564602.33it/s]\n",
      "100%|██████████| 625628/625628 [00:04<00:00, 155898.65it/s]\n"
     ]
    },
    {
     "name": "stdout",
     "output_type": "stream",
     "text": [
      "./ ./58 ./result\n",
      "chready: True\n"
     ]
    },
    {
     "name": "stderr",
     "output_type": "stream",
     "text": [
      "100%|██████████| 386490/386490 [00:00<00:00, 527199.09it/s]\n",
      "100%|██████████| 386490/386490 [00:02<00:00, 165059.71it/s]\n"
     ]
    },
    {
     "name": "stdout",
     "output_type": "stream",
     "text": [
      "./ ./87 ./result\n",
      "chready: True\n"
     ]
    },
    {
     "name": "stderr",
     "output_type": "stream",
     "text": [
      "100%|██████████| 4847/4847 [00:00<00:00, 440458.26it/s]\n",
      "100%|██████████| 4847/4847 [00:00<00:00, 263366.56it/s]\n"
     ]
    },
    {
     "name": "stdout",
     "output_type": "stream",
     "text": [
      "./ ./61 ./result\n",
      "chready: True\n"
     ]
    },
    {
     "name": "stderr",
     "output_type": "stream",
     "text": [
      "100%|██████████| 1194234/1194234 [00:01<00:00, 604842.46it/s]\n",
      "100%|██████████| 1194234/1194234 [00:07<00:00, 152490.97it/s]\n"
     ]
    },
    {
     "name": "stdout",
     "output_type": "stream",
     "text": [
      "./ ./92 ./result\n",
      "chready: True\n"
     ]
    },
    {
     "name": "stderr",
     "output_type": "stream",
     "text": [
      "100%|██████████| 94258/94258 [00:00<00:00, 615607.31it/s]\n",
      "100%|██████████| 94258/94258 [00:00<00:00, 246767.35it/s]\n"
     ]
    },
    {
     "name": "stdout",
     "output_type": "stream",
     "text": [
      "./ ./86 ./result\n",
      "chready: True\n"
     ]
    },
    {
     "name": "stderr",
     "output_type": "stream",
     "text": [
      "100%|██████████| 143158/143158 [00:00<00:00, 512415.23it/s]\n",
      "100%|██████████| 143158/143158 [00:00<00:00, 212659.14it/s]\n"
     ]
    }
   ],
   "source": [
    "for r in regions:\n",
    "    if (not f'{r}_hadobj.csv' in os.listdir(final_dir)) or (not f'{r}_parsed_chains.csv' in os.listdir(final_dir)):\n",
    "        %run gar_try.py {data_dir} {r} {final_dir}"
   ]
  },
  {
   "cell_type": "code",
   "execution_count": 6,
   "id": "08d7eefb",
   "metadata": {
    "scrolled": true
   },
   "outputs": [],
   "source": [
    "#%run gar_try.py {data_dir} 01 {final_dir}"
   ]
  },
  {
   "cell_type": "code",
   "execution_count": 13,
   "id": "09512278",
   "metadata": {},
   "outputs": [
    {
     "name": "stderr",
     "output_type": "stream",
     "text": [
      "100%|██████████| 86/86 [00:00<00:00, 3909.08it/s]\n"
     ]
    },
    {
     "data": {
      "text/plain": [
       "86"
      ]
     },
     "execution_count": 13,
     "metadata": {},
     "output_type": "execute_result"
    }
   ],
   "source": [
    "done = 0\n",
    "for r in tqdm(regions):\n",
    "    if (f'{r}_hadobj.csv' in os.listdir(final_dir)) and (f'{r}_parsed_chains.csv' in os.listdir(final_dir)):\n",
    "        done +=1\n",
    "done"
   ]
  },
  {
   "cell_type": "code",
   "execution_count": null,
   "id": "ecd59fc3",
   "metadata": {},
   "outputs": [],
   "source": []
  }
 ],
 "metadata": {
  "kernelspec": {
   "display_name": "Python 3 (ipykernel)",
   "language": "python",
   "name": "python3"
  },
  "language_info": {
   "codemirror_mode": {
    "name": "ipython",
    "version": 3
   },
   "file_extension": ".py",
   "mimetype": "text/x-python",
   "name": "python",
   "nbconvert_exporter": "python",
   "pygments_lexer": "ipython3",
   "version": "3.8.12"
  }
 },
 "nbformat": 4,
 "nbformat_minor": 5
}
