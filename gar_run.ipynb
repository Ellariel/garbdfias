{
 "cells": [
  {
   "cell_type": "code",
   "execution_count": 1,
   "id": "b2ca6ede",
   "metadata": {},
   "outputs": [],
   "source": [
    "%%capture\n",
    "!pip install numpy==1.21.4\n",
    "!pip install pandas==1.3.4\n",
    "!pip install loguru==0.5.3\n",
    "!pip install psycopg2-binary"
   ]
  },
  {
   "cell_type": "code",
   "execution_count": 1,
   "id": "bc4fbfb9",
   "metadata": {},
   "outputs": [],
   "source": [
    "import sys\n",
    "import os\n",
    "from tqdm import tqdm\n",
    "import pandas as pd\n",
    "from adding_tables_psycopg import AddingDataPsycopg\n",
    "import warnings\n",
    "warnings.filterwarnings(\"ignore\")"
   ]
  },
  {
   "cell_type": "code",
   "execution_count": 2,
   "id": "def9d3af",
   "metadata": {},
   "outputs": [],
   "source": [
    "data_dir = './'\n",
    "final_dir = './result'\n",
    "os.makedirs(final_dir, exist_ok=True)\n",
    "regions = [i for i in os.listdir(data_dir) if (len(i) == 2) and (not i in ['88', '81', '82', '80', '84', '85'])]"
   ]
  },
  {
   "cell_type": "code",
   "execution_count": 3,
   "id": "9286ae19",
   "metadata": {
    "scrolled": true
   },
   "outputs": [
    {
     "name": "stdout",
     "output_type": "stream",
     "text": [
      "./ ./43 ./result\n",
      "chready: True\n"
     ]
    },
    {
     "name": "stderr",
     "output_type": "stream",
     "text": [
      "100%|██████████| 328256/328256 [00:00<00:00, 600424.61it/s]\n",
      "100%|██████████| 328256/328256 [00:01<00:00, 174325.47it/s]\n"
     ]
    },
    {
     "name": "stdout",
     "output_type": "stream",
     "text": [
      "./ ./30 ./result\n",
      "chready: True\n"
     ]
    },
    {
     "name": "stderr",
     "output_type": "stream",
     "text": [
      "100%|██████████| 265600/265600 [00:00<00:00, 553376.19it/s]\n",
      "100%|██████████| 265600/265600 [00:01<00:00, 178745.52it/s]\n"
     ]
    },
    {
     "name": "stdout",
     "output_type": "stream",
     "text": [
      "./ ./91 ./result\n",
      "chready: True\n"
     ]
    },
    {
     "name": "stderr",
     "output_type": "stream",
     "text": [
      "100%|██████████| 504021/504021 [00:00<00:00, 628384.09it/s]\n",
      "100%|██████████| 504021/504021 [00:02<00:00, 175810.74it/s]\n"
     ]
    },
    {
     "name": "stdout",
     "output_type": "stream",
     "text": [
      "./ ./73 ./result\n",
      "chready: True\n"
     ]
    },
    {
     "name": "stderr",
     "output_type": "stream",
     "text": [
      "100%|██████████| 279474/279474 [00:00<00:00, 516483.43it/s]\n",
      "100%|██████████| 279474/279474 [00:01<00:00, 182085.79it/s]\n"
     ]
    },
    {
     "name": "stdout",
     "output_type": "stream",
     "text": [
      "./ ./31 ./result\n",
      "chready: True\n"
     ]
    },
    {
     "name": "stderr",
     "output_type": "stream",
     "text": [
      "100%|██████████| 560673/560673 [00:00<00:00, 590260.59it/s]\n",
      "100%|██████████| 560673/560673 [00:03<00:00, 176508.69it/s]\n"
     ]
    },
    {
     "name": "stdout",
     "output_type": "stream",
     "text": [
      "./ ./99 ./result\n",
      "chready: True\n"
     ]
    },
    {
     "name": "stderr",
     "output_type": "stream",
     "text": [
      "100%|██████████| 536/536 [00:00<00:00, 619324.23it/s]\n",
      "100%|██████████| 536/536 [00:00<00:00, 419900.44it/s]\n"
     ]
    },
    {
     "name": "stdout",
     "output_type": "stream",
     "text": [
      "./ ./46 ./result\n",
      "chready: True\n"
     ]
    },
    {
     "name": "stderr",
     "output_type": "stream",
     "text": [
      "100%|██████████| 338539/338539 [00:00<00:00, 559908.60it/s]\n",
      "100%|██████████| 338539/338539 [00:01<00:00, 184128.02it/s]\n"
     ]
    },
    {
     "name": "stdout",
     "output_type": "stream",
     "text": [
      "./ ./13 ./result\n",
      "chready: True\n"
     ]
    },
    {
     "name": "stderr",
     "output_type": "stream",
     "text": [
      "100%|██████████| 241046/241046 [00:00<00:00, 576546.71it/s]\n",
      "100%|██████████| 241046/241046 [00:01<00:00, 192847.14it/s]\n"
     ]
    },
    {
     "name": "stdout",
     "output_type": "stream",
     "text": [
      "./ ./67 ./result\n",
      "chready: True\n"
     ]
    },
    {
     "name": "stderr",
     "output_type": "stream",
     "text": [
      "100%|██████████| 264580/264580 [00:00<00:00, 559304.52it/s]\n",
      "100%|██████████| 264580/264580 [00:01<00:00, 183850.10it/s]\n"
     ]
    },
    {
     "name": "stdout",
     "output_type": "stream",
     "text": [
      "./ ./06 ./result\n",
      "chready: True\n"
     ]
    },
    {
     "name": "stderr",
     "output_type": "stream",
     "text": [
      "100%|██████████| 89025/89025 [00:00<00:00, 575486.24it/s]\n",
      "100%|██████████| 89025/89025 [00:00<00:00, 239692.75it/s]\n"
     ]
    },
    {
     "name": "stdout",
     "output_type": "stream",
     "text": [
      "./ ./56 ./result\n",
      "chready: True\n"
     ]
    },
    {
     "name": "stderr",
     "output_type": "stream",
     "text": [
      "100%|██████████| 504777/504777 [00:00<00:00, 579245.06it/s]\n",
      "100%|██████████| 504777/504777 [00:03<00:00, 167099.48it/s]\n"
     ]
    },
    {
     "name": "stdout",
     "output_type": "stream",
     "text": [
      "./ ./16 ./result\n",
      "chready: True\n"
     ]
    },
    {
     "name": "stderr",
     "output_type": "stream",
     "text": [
      "100%|██████████| 956755/956755 [00:01<00:00, 549315.45it/s]\n",
      "100%|██████████| 956755/956755 [00:06<00:00, 151785.07it/s]\n"
     ]
    },
    {
     "name": "stdout",
     "output_type": "stream",
     "text": [
      "./ ./49 ./result\n",
      "chready: True\n"
     ]
    },
    {
     "name": "stderr",
     "output_type": "stream",
     "text": [
      "100%|██████████| 12158/12158 [00:00<00:00, 452498.76it/s]\n",
      "100%|██████████| 12158/12158 [00:00<00:00, 230411.07it/s]\n"
     ]
    },
    {
     "name": "stdout",
     "output_type": "stream",
     "text": [
      "./ ./53 ./result\n",
      "chready: True\n"
     ]
    },
    {
     "name": "stderr",
     "output_type": "stream",
     "text": [
      "100%|██████████| 251991/251991 [00:00<00:00, 583465.24it/s]\n",
      "100%|██████████| 251991/251991 [00:01<00:00, 190933.73it/s]\n"
     ]
    },
    {
     "name": "stdout",
     "output_type": "stream",
     "text": [
      "./ ./44 ./result\n",
      "chready: True\n"
     ]
    },
    {
     "name": "stderr",
     "output_type": "stream",
     "text": [
      "100%|██████████| 188323/188323 [00:00<00:00, 553800.83it/s]\n",
      "100%|██████████| 188323/188323 [00:00<00:00, 200856.21it/s]\n"
     ]
    },
    {
     "name": "stdout",
     "output_type": "stream",
     "text": [
      "./ ./52 ./result\n",
      "chready: True\n"
     ]
    },
    {
     "name": "stderr",
     "output_type": "stream",
     "text": [
      "100%|██████████| 825616/825616 [00:01<00:00, 643867.31it/s]\n",
      "100%|██████████| 825616/825616 [00:04<00:00, 166347.13it/s]\n"
     ]
    },
    {
     "name": "stdout",
     "output_type": "stream",
     "text": [
      "./ ./01 ./result\n",
      "chready: True\n"
     ]
    },
    {
     "name": "stderr",
     "output_type": "stream",
     "text": [
      "100%|██████████| 154464/154464 [00:00<00:00, 531256.56it/s]\n",
      "100%|██████████| 154464/154464 [00:00<00:00, 211477.79it/s]\n"
     ]
    },
    {
     "name": "stdout",
     "output_type": "stream",
     "text": [
      "./ ./40 ./result\n",
      "chready: True\n"
     ]
    },
    {
     "name": "stderr",
     "output_type": "stream",
     "text": [
      "100%|██████████| 405531/405531 [00:00<00:00, 588098.11it/s]\n",
      "100%|██████████| 405531/405531 [00:02<00:00, 189835.79it/s]\n"
     ]
    },
    {
     "name": "stdout",
     "output_type": "stream",
     "text": [
      "./ ./14 ./result\n",
      "chready: True\n"
     ]
    },
    {
     "name": "stderr",
     "output_type": "stream",
     "text": [
      "100%|██████████| 230378/230378 [00:00<00:00, 475461.13it/s]\n",
      "100%|██████████| 230378/230378 [00:01<00:00, 183749.07it/s]\n"
     ]
    },
    {
     "name": "stdout",
     "output_type": "stream",
     "text": [
      "./ ./41 ./result\n",
      "chready: True\n"
     ]
    },
    {
     "name": "stderr",
     "output_type": "stream",
     "text": [
      "100%|██████████| 28145/28145 [00:00<00:00, 408115.68it/s]\n",
      "100%|██████████| 28145/28145 [00:00<00:00, 215463.71it/s]\n"
     ]
    },
    {
     "name": "stdout",
     "output_type": "stream",
     "text": [
      "./ ./26 ./result\n",
      "chready: True\n"
     ]
    },
    {
     "name": "stderr",
     "output_type": "stream",
     "text": [
      "100%|██████████| 779407/779407 [00:01<00:00, 654577.87it/s]\n",
      "100%|██████████| 779407/779407 [00:04<00:00, 186619.85it/s]\n"
     ]
    },
    {
     "name": "stdout",
     "output_type": "stream",
     "text": [
      "./ ./78 ./result\n",
      "chready: True\n"
     ]
    },
    {
     "name": "stderr",
     "output_type": "stream",
     "text": [
      "100%|██████████| 137157/137157 [00:00<00:00, 575684.01it/s]\n",
      "100%|██████████| 137157/137157 [00:00<00:00, 248914.35it/s]\n"
     ]
    },
    {
     "name": "stdout",
     "output_type": "stream",
     "text": [
      "./ ./68 ./result\n",
      "chready: True\n"
     ]
    },
    {
     "name": "stderr",
     "output_type": "stream",
     "text": [
      "100%|██████████| 359478/359478 [00:00<00:00, 552524.78it/s]\n",
      "100%|██████████| 359478/359478 [00:01<00:00, 181557.60it/s]\n"
     ]
    },
    {
     "name": "stdout",
     "output_type": "stream",
     "text": [
      "./ ./65 ./result\n",
      "chready: True\n"
     ]
    },
    {
     "name": "stderr",
     "output_type": "stream",
     "text": [
      "100%|██████████| 63012/63012 [00:00<00:00, 545792.91it/s]\n",
      "100%|██████████| 63012/63012 [00:00<00:00, 235581.62it/s]\n"
     ]
    },
    {
     "name": "stdout",
     "output_type": "stream",
     "text": [
      "./ ./76 ./result\n",
      "chready: True\n"
     ]
    },
    {
     "name": "stderr",
     "output_type": "stream",
     "text": [
      "100%|██████████| 276610/276610 [00:00<00:00, 538627.76it/s]\n",
      "100%|██████████| 276610/276610 [00:01<00:00, 179853.12it/s]\n"
     ]
    },
    {
     "name": "stdout",
     "output_type": "stream",
     "text": [
      "./ ./63 ./result\n",
      "chready: True\n"
     ]
    },
    {
     "name": "stderr",
     "output_type": "stream",
     "text": [
      "100%|██████████| 498904/498904 [00:00<00:00, 529956.52it/s]\n",
      "100%|██████████| 498904/498904 [00:03<00:00, 164656.21it/s]\n"
     ]
    },
    {
     "name": "stdout",
     "output_type": "stream",
     "text": [
      "./ ./54 ./result\n",
      "chready: True\n"
     ]
    },
    {
     "name": "stderr",
     "output_type": "stream",
     "text": [
      "100%|██████████| 501542/501542 [00:00<00:00, 559886.52it/s]\n",
      "100%|██████████| 501542/501542 [00:02<00:00, 168722.00it/s]\n"
     ]
    },
    {
     "name": "stdout",
     "output_type": "stream",
     "text": [
      "./ ./35 ./result\n",
      "chready: True\n"
     ]
    },
    {
     "name": "stderr",
     "output_type": "stream",
     "text": [
      "100%|██████████| 317811/317811 [00:00<00:00, 546191.40it/s]\n",
      "100%|██████████| 317811/317811 [00:01<00:00, 179804.50it/s]\n"
     ]
    },
    {
     "name": "stdout",
     "output_type": "stream",
     "text": [
      "./ ./15 ./result\n",
      "chready: True\n"
     ]
    },
    {
     "name": "stderr",
     "output_type": "stream",
     "text": [
      "100%|██████████| 136444/136444 [00:00<00:00, 501291.68it/s]\n",
      "100%|██████████| 136444/136444 [00:00<00:00, 212612.75it/s]\n"
     ]
    },
    {
     "name": "stdout",
     "output_type": "stream",
     "text": [
      "./ ./10 ./result\n",
      "chready: True\n"
     ]
    },
    {
     "name": "stderr",
     "output_type": "stream",
     "text": [
      "100%|██████████| 97428/97428 [00:00<00:00, 531562.14it/s]\n",
      "100%|██████████| 97428/97428 [00:00<00:00, 210874.35it/s]\n"
     ]
    },
    {
     "name": "stdout",
     "output_type": "stream",
     "text": [
      "./ ./50 ./result\n",
      "chready: True\n"
     ]
    },
    {
     "name": "stderr",
     "output_type": "stream",
     "text": [
      "100%|██████████| 1745392/1745392 [00:02<00:00, 668834.01it/s]\n",
      "100%|██████████| 1745392/1745392 [00:10<00:00, 164589.12it/s]\n"
     ]
    },
    {
     "name": "stdout",
     "output_type": "stream",
     "text": [
      "./ ./29 ./result\n",
      "chready: True\n"
     ]
    },
    {
     "name": "stderr",
     "output_type": "stream",
     "text": [
      "100%|██████████| 238863/238863 [00:00<00:00, 503117.56it/s]\n",
      "100%|██████████| 238863/238863 [00:01<00:00, 178397.04it/s]\n"
     ]
    },
    {
     "name": "stdout",
     "output_type": "stream",
     "text": [
      "./ ./28 ./result\n",
      "chready: True\n"
     ]
    },
    {
     "name": "stderr",
     "output_type": "stream",
     "text": [
      "100%|██████████| 172804/172804 [00:00<00:00, 562843.78it/s]\n",
      "100%|██████████| 172804/172804 [00:00<00:00, 197906.80it/s]\n"
     ]
    },
    {
     "name": "stdout",
     "output_type": "stream",
     "text": [
      "./ ./48 ./result\n",
      "chready: True\n"
     ]
    },
    {
     "name": "stderr",
     "output_type": "stream",
     "text": [
      "100%|██████████| 308800/308800 [00:00<00:00, 551367.83it/s]\n",
      "100%|██████████| 308800/308800 [00:01<00:00, 179601.25it/s]\n"
     ]
    },
    {
     "name": "stdout",
     "output_type": "stream",
     "text": [
      "./ ./02 ./result\n",
      "chready: True\n"
     ]
    },
    {
     "name": "stderr",
     "output_type": "stream",
     "text": [
      "100%|██████████| 1094103/1094103 [00:02<00:00, 541581.01it/s]\n",
      "100%|██████████| 1094103/1094103 [00:07<00:00, 149323.63it/s]\n"
     ]
    },
    {
     "name": "stdout",
     "output_type": "stream",
     "text": [
      "./ ./62 ./result\n",
      "chready: True\n"
     ]
    },
    {
     "name": "stderr",
     "output_type": "stream",
     "text": [
      "100%|██████████| 353249/353249 [00:00<00:00, 516573.20it/s]\n",
      "100%|██████████| 353249/353249 [00:01<00:00, 177441.16it/s]\n"
     ]
    },
    {
     "name": "stdout",
     "output_type": "stream",
     "text": [
      "./ ./47 ./result\n",
      "chready: True\n"
     ]
    },
    {
     "name": "stderr",
     "output_type": "stream",
     "text": [
      "100%|██████████| 593519/593519 [00:01<00:00, 560627.24it/s]\n",
      "100%|██████████| 593519/593519 [00:03<00:00, 168437.23it/s]\n"
     ]
    },
    {
     "name": "stdout",
     "output_type": "stream",
     "text": [
      "./ ./60 ./result\n",
      "chready: True\n"
     ]
    },
    {
     "name": "stderr",
     "output_type": "stream",
     "text": [
      "100%|██████████| 239715/239715 [00:00<00:00, 500303.58it/s]\n",
      "100%|██████████| 239715/239715 [00:01<00:00, 190520.67it/s]\n"
     ]
    },
    {
     "name": "stdout",
     "output_type": "stream",
     "text": [
      "./ ./45 ./result\n",
      "chready: True\n"
     ]
    },
    {
     "name": "stderr",
     "output_type": "stream",
     "text": [
      "100%|██████████| 274516/274516 [00:00<00:00, 550898.93it/s]\n",
      "100%|██████████| 274516/274516 [00:01<00:00, 178053.11it/s]\n"
     ]
    },
    {
     "name": "stdout",
     "output_type": "stream",
     "text": [
      "./ ./57 ./result\n",
      "chready: True\n"
     ]
    },
    {
     "name": "stderr",
     "output_type": "stream",
     "text": [
      "100%|██████████| 226529/226529 [00:00<00:00, 553034.16it/s]\n",
      "100%|██████████| 226529/226529 [00:01<00:00, 180423.34it/s]\n"
     ]
    },
    {
     "name": "stdout",
     "output_type": "stream",
     "text": [
      "./ ./72 ./result\n",
      "chready: True\n"
     ]
    },
    {
     "name": "stderr",
     "output_type": "stream",
     "text": [
      "100%|██████████| 328686/328686 [00:00<00:00, 568886.34it/s]\n",
      "100%|██████████| 328686/328686 [00:01<00:00, 185962.58it/s]\n"
     ]
    },
    {
     "name": "stdout",
     "output_type": "stream",
     "text": [
      "./ ./69 ./result\n",
      "chready: True\n"
     ]
    },
    {
     "name": "stderr",
     "output_type": "stream",
     "text": [
      "100%|██████████| 510601/510601 [00:00<00:00, 650064.04it/s]\n",
      "100%|██████████| 510601/510601 [00:02<00:00, 176358.60it/s]\n"
     ]
    },
    {
     "name": "stdout",
     "output_type": "stream",
     "text": [
      "./ ./77 ./result\n",
      "chready: True\n"
     ]
    },
    {
     "name": "stderr",
     "output_type": "stream",
     "text": [
      "100%|██████████| 293863/293863 [00:00<00:00, 593560.70it/s]\n",
      "100%|██████████| 293863/293863 [00:01<00:00, 227520.05it/s]\n"
     ]
    },
    {
     "name": "stdout",
     "output_type": "stream",
     "text": [
      "./ ./59 ./result\n",
      "chready: True\n"
     ]
    },
    {
     "name": "stderr",
     "output_type": "stream",
     "text": [
      "100%|██████████| 655695/655695 [00:01<00:00, 533619.91it/s]\n",
      "100%|██████████| 655695/655695 [00:03<00:00, 167767.47it/s]\n"
     ]
    },
    {
     "name": "stdout",
     "output_type": "stream",
     "text": [
      "./ ./19 ./result\n",
      "chready: True\n"
     ]
    },
    {
     "name": "stderr",
     "output_type": "stream",
     "text": [
      "100%|██████████| 154433/154433 [00:00<00:00, 516481.81it/s]\n",
      "100%|██████████| 154433/154433 [00:00<00:00, 203695.47it/s]\n"
     ]
    },
    {
     "name": "stdout",
     "output_type": "stream",
     "text": [
      "./ ./18 ./result\n",
      "chready: True\n"
     ]
    },
    {
     "name": "stderr",
     "output_type": "stream",
     "text": [
      "100%|██████████| 427146/427146 [00:00<00:00, 621304.35it/s]\n",
      "100%|██████████| 427146/427146 [00:02<00:00, 180363.84it/s]\n"
     ]
    },
    {
     "name": "stdout",
     "output_type": "stream",
     "text": [
      "./ ./89 ./result\n",
      "chready: True\n"
     ]
    },
    {
     "name": "stderr",
     "output_type": "stream",
     "text": [
      "100%|██████████| 51146/51146 [00:00<00:00, 514079.73it/s]\n",
      "100%|██████████| 51146/51146 [00:00<00:00, 235230.64it/s]\n"
     ]
    },
    {
     "name": "stdout",
     "output_type": "stream",
     "text": [
      "./ ./83 ./result\n",
      "chready: True\n"
     ]
    },
    {
     "name": "stderr",
     "output_type": "stream",
     "text": [
      "100%|██████████| 7255/7255 [00:00<00:00, 525691.90it/s]\n",
      "100%|██████████| 7255/7255 [00:00<00:00, 265689.42it/s]\n"
     ]
    },
    {
     "name": "stdout",
     "output_type": "stream",
     "text": [
      "./ ./36 ./result\n",
      "chready: True\n"
     ]
    },
    {
     "name": "stderr",
     "output_type": "stream",
     "text": [
      "100%|██████████| 775799/775799 [00:01<00:00, 586610.01it/s]\n",
      "100%|██████████| 775799/775799 [00:04<00:00, 163708.58it/s]\n"
     ]
    },
    {
     "name": "stdout",
     "output_type": "stream",
     "text": [
      "./ ./37 ./result\n",
      "chready: True\n"
     ]
    },
    {
     "name": "stderr",
     "output_type": "stream",
     "text": [
      "100%|██████████| 261384/261384 [00:00<00:00, 572030.82it/s]\n",
      "100%|██████████| 261384/261384 [00:01<00:00, 191993.09it/s]\n"
     ]
    },
    {
     "name": "stdout",
     "output_type": "stream",
     "text": [
      "./ ./08 ./result\n",
      "chready: True\n"
     ]
    },
    {
     "name": "stderr",
     "output_type": "stream",
     "text": [
      "100%|██████████| 76484/76484 [00:00<00:00, 592440.68it/s]\n",
      "100%|██████████| 76484/76484 [00:00<00:00, 230193.30it/s]\n"
     ]
    },
    {
     "name": "stdout",
     "output_type": "stream",
     "text": [
      "./ ./03 ./result\n",
      "chready: True\n"
     ]
    },
    {
     "name": "stderr",
     "output_type": "stream",
     "text": [
      "100%|██████████| 245307/245307 [00:00<00:00, 567758.60it/s]\n",
      "100%|██████████| 245307/245307 [00:01<00:00, 193942.43it/s]\n"
     ]
    },
    {
     "name": "stdout",
     "output_type": "stream",
     "text": [
      "./ ./09 ./result\n",
      "chready: True\n"
     ]
    },
    {
     "name": "stderr",
     "output_type": "stream",
     "text": [
      "100%|██████████| 111828/111828 [00:00<00:00, 603331.32it/s]\n",
      "100%|██████████| 111828/111828 [00:00<00:00, 225992.49it/s]\n"
     ]
    },
    {
     "name": "stdout",
     "output_type": "stream",
     "text": [
      "./ ./55 ./result\n",
      "chready: True\n"
     ]
    },
    {
     "name": "stderr",
     "output_type": "stream",
     "text": [
      "100%|██████████| 498791/498791 [00:00<00:00, 609360.22it/s]\n",
      "100%|██████████| 498791/498791 [00:02<00:00, 175751.21it/s]\n"
     ]
    },
    {
     "name": "stdout",
     "output_type": "stream",
     "text": [
      "./ ./12 ./result\n",
      "chready: True\n"
     ]
    },
    {
     "name": "stderr",
     "output_type": "stream",
     "text": [
      "100%|██████████| 211443/211443 [00:00<00:00, 522371.20it/s]\n",
      "100%|██████████| 211443/211443 [00:01<00:00, 190887.49it/s]\n"
     ]
    },
    {
     "name": "stdout",
     "output_type": "stream",
     "text": [
      "./ ./20 ./result\n",
      "chready: True\n"
     ]
    },
    {
     "name": "stderr",
     "output_type": "stream",
     "text": [
      "100%|██████████| 317285/317285 [00:00<00:00, 610954.55it/s]\n",
      "100%|██████████| 317285/317285 [00:01<00:00, 193349.13it/s]\n"
     ]
    },
    {
     "name": "stdout",
     "output_type": "stream",
     "text": [
      "./ ./51 ./result\n",
      "chready: True\n"
     ]
    },
    {
     "name": "stderr",
     "output_type": "stream",
     "text": [
      "100%|██████████| 44030/44030 [00:00<00:00, 518044.81it/s]\n",
      "100%|██████████| 44030/44030 [00:00<00:00, 249514.89it/s]\n"
     ]
    },
    {
     "name": "stdout",
     "output_type": "stream",
     "text": [
      "./ ./74 ./result\n",
      "chready: True\n"
     ]
    },
    {
     "name": "stderr",
     "output_type": "stream",
     "text": [
      "100%|██████████| 769623/769623 [00:01<00:00, 590673.46it/s]\n",
      "100%|██████████| 769623/769623 [00:04<00:00, 178776.67it/s]\n"
     ]
    },
    {
     "name": "stdout",
     "output_type": "stream",
     "text": [
      "./ ./21 ./result\n",
      "chready: True\n"
     ]
    },
    {
     "name": "stderr",
     "output_type": "stream",
     "text": [
      "100%|██████████| 312599/312599 [00:00<00:00, 558149.35it/s]\n",
      "100%|██████████| 312599/312599 [00:01<00:00, 187600.18it/s]\n"
     ]
    },
    {
     "name": "stdout",
     "output_type": "stream",
     "text": [
      "./ ./22 ./result\n",
      "chready: True\n"
     ]
    },
    {
     "name": "stderr",
     "output_type": "stream",
     "text": [
      "100%|██████████| 619907/619907 [00:01<00:00, 591261.24it/s]\n",
      "100%|██████████| 619907/619907 [00:03<00:00, 176715.38it/s]\n"
     ]
    },
    {
     "name": "stdout",
     "output_type": "stream",
     "text": [
      "./ ./17 ./result\n",
      "chready: True\n"
     ]
    },
    {
     "name": "stderr",
     "output_type": "stream",
     "text": [
      "100%|██████████| 60045/60045 [00:00<00:00, 534382.48it/s]\n",
      "100%|██████████| 60045/60045 [00:00<00:00, 233508.40it/s]\n"
     ]
    },
    {
     "name": "stdout",
     "output_type": "stream",
     "text": [
      "./ ./66 ./result\n",
      "chready: True\n"
     ]
    },
    {
     "name": "stderr",
     "output_type": "stream",
     "text": [
      "100%|██████████| 904128/904128 [00:01<00:00, 624103.61it/s]\n",
      "100%|██████████| 904128/904128 [00:05<00:00, 170102.47it/s]\n"
     ]
    },
    {
     "name": "stdout",
     "output_type": "stream",
     "text": [
      "./ ./71 ./result\n",
      "chready: True\n"
     ]
    },
    {
     "name": "stderr",
     "output_type": "stream",
     "text": [
      "100%|██████████| 307795/307795 [00:00<00:00, 569996.07it/s]\n",
      "100%|██████████| 307795/307795 [00:01<00:00, 186963.50it/s]\n"
     ]
    },
    {
     "name": "stdout",
     "output_type": "stream",
     "text": [
      "./ ./32 ./result\n",
      "chready: True\n"
     ]
    },
    {
     "name": "stderr",
     "output_type": "stream",
     "text": [
      "100%|██████████| 413035/413035 [00:00<00:00, 618071.02it/s]\n",
      "100%|██████████| 413035/413035 [00:02<00:00, 186767.99it/s]\n"
     ]
    },
    {
     "name": "stdout",
     "output_type": "stream",
     "text": [
      "./ ./42 ./result\n",
      "chready: True\n"
     ]
    },
    {
     "name": "stderr",
     "output_type": "stream",
     "text": [
      "100%|██████████| 581781/581781 [00:00<00:00, 665734.99it/s]\n",
      "100%|██████████| 581781/581781 [00:03<00:00, 184856.65it/s]\n"
     ]
    },
    {
     "name": "stdout",
     "output_type": "stream",
     "text": [
      "./ ./39 ./result\n",
      "chready: True\n"
     ]
    },
    {
     "name": "stderr",
     "output_type": "stream",
     "text": [
      "100%|██████████| 155766/155766 [00:00<00:00, 517038.18it/s]\n",
      "100%|██████████| 155766/155766 [00:00<00:00, 193632.83it/s]\n"
     ]
    },
    {
     "name": "stdout",
     "output_type": "stream",
     "text": [
      "./ ./25 ./result\n",
      "chready: True\n"
     ]
    },
    {
     "name": "stderr",
     "output_type": "stream",
     "text": [
      "100%|██████████| 300463/300463 [00:00<00:00, 566282.65it/s]\n",
      "100%|██████████| 300463/300463 [00:01<00:00, 182435.75it/s]\n"
     ]
    },
    {
     "name": "stdout",
     "output_type": "stream",
     "text": [
      "./ ./11 ./result\n",
      "chready: True\n"
     ]
    },
    {
     "name": "stderr",
     "output_type": "stream",
     "text": [
      "100%|██████████| 151581/151581 [00:00<00:00, 495145.17it/s]\n",
      "100%|██████████| 151581/151581 [00:00<00:00, 190078.60it/s]\n"
     ]
    },
    {
     "name": "stdout",
     "output_type": "stream",
     "text": [
      "./ ./38 ./result\n",
      "chready: True\n"
     ]
    },
    {
     "name": "stderr",
     "output_type": "stream",
     "text": [
      "100%|██████████| 488361/488361 [00:00<00:00, 595805.98it/s]\n",
      "100%|██████████| 488361/488361 [00:02<00:00, 163402.93it/s]\n"
     ]
    },
    {
     "name": "stdout",
     "output_type": "stream",
     "text": [
      "./ ./23 ./result\n",
      "chready: True\n"
     ]
    },
    {
     "name": "stderr",
     "output_type": "stream",
     "text": [
      "100%|██████████| 1761860/1761860 [00:03<00:00, 573436.55it/s]\n",
      "100%|██████████| 1761860/1761860 [00:11<00:00, 149809.81it/s]\n"
     ]
    },
    {
     "name": "stdout",
     "output_type": "stream",
     "text": [
      "./ ./34 ./result\n",
      "chready: True\n"
     ]
    },
    {
     "name": "stderr",
     "output_type": "stream",
     "text": [
      "100%|██████████| 706210/706210 [00:01<00:00, 537359.61it/s]\n",
      "100%|██████████| 706210/706210 [00:04<00:00, 167539.31it/s]\n"
     ]
    },
    {
     "name": "stdout",
     "output_type": "stream",
     "text": [
      "./ ./24 ./result\n",
      "chready: True\n"
     ]
    },
    {
     "name": "stderr",
     "output_type": "stream",
     "text": [
      "100%|██████████| 670875/670875 [00:01<00:00, 532389.30it/s]\n",
      "100%|██████████| 670875/670875 [00:04<00:00, 158193.46it/s]\n"
     ]
    },
    {
     "name": "stdout",
     "output_type": "stream",
     "text": [
      "./ ./07 ./result\n",
      "chready: True\n"
     ]
    },
    {
     "name": "stderr",
     "output_type": "stream",
     "text": [
      "100%|██████████| 179487/179487 [00:00<00:00, 574129.31it/s]\n",
      "100%|██████████| 179487/179487 [00:00<00:00, 218092.31it/s]\n"
     ]
    },
    {
     "name": "stdout",
     "output_type": "stream",
     "text": [
      "./ ./05 ./result\n",
      "chready: True\n"
     ]
    },
    {
     "name": "stderr",
     "output_type": "stream",
     "text": [
      "100%|██████████| 630333/630333 [00:01<00:00, 607633.72it/s]\n",
      "100%|██████████| 630333/630333 [00:03<00:00, 167513.83it/s]\n"
     ]
    },
    {
     "name": "stdout",
     "output_type": "stream",
     "text": [
      "./ ./70 ./result\n",
      "chready: True\n"
     ]
    },
    {
     "name": "stderr",
     "output_type": "stream",
     "text": [
      "100%|██████████| 234351/234351 [00:00<00:00, 491491.79it/s]\n",
      "100%|██████████| 234351/234351 [00:01<00:00, 188887.45it/s]\n"
     ]
    },
    {
     "name": "stdout",
     "output_type": "stream",
     "text": [
      "./ ./75 ./result\n",
      "chready: True\n"
     ]
    },
    {
     "name": "stderr",
     "output_type": "stream",
     "text": [
      "100%|██████████| 253214/253214 [00:00<00:00, 582020.84it/s]\n",
      "100%|██████████| 253214/253214 [00:01<00:00, 190794.82it/s]\n"
     ]
    },
    {
     "name": "stdout",
     "output_type": "stream",
     "text": [
      "./ ./79 ./result\n",
      "chready: True\n"
     ]
    },
    {
     "name": "stderr",
     "output_type": "stream",
     "text": [
      "100%|██████████| 30837/30837 [00:00<00:00, 500870.36it/s]\n",
      "100%|██████████| 30837/30837 [00:00<00:00, 234147.41it/s]\n"
     ]
    },
    {
     "name": "stdout",
     "output_type": "stream",
     "text": [
      "./ ./27 ./result\n",
      "chready: True\n"
     ]
    },
    {
     "name": "stderr",
     "output_type": "stream",
     "text": [
      "100%|██████████| 135577/135577 [00:00<00:00, 564797.54it/s]\n",
      "100%|██████████| 135577/135577 [00:00<00:00, 221514.65it/s]\n"
     ]
    },
    {
     "name": "stdout",
     "output_type": "stream",
     "text": [
      "./ ./33 ./result\n",
      "chready: True\n"
     ]
    },
    {
     "name": "stderr",
     "output_type": "stream",
     "text": [
      "100%|██████████| 432190/432190 [00:00<00:00, 552475.18it/s]\n",
      "100%|██████████| 432190/432190 [00:02<00:00, 179158.14it/s]\n"
     ]
    },
    {
     "name": "stdout",
     "output_type": "stream",
     "text": [
      "./ ./04 ./result\n",
      "chready: True\n"
     ]
    },
    {
     "name": "stderr",
     "output_type": "stream",
     "text": [
      "100%|██████████| 84014/84014 [00:00<00:00, 546517.47it/s]\n",
      "100%|██████████| 84014/84014 [00:00<00:00, 228451.49it/s]\n"
     ]
    },
    {
     "name": "stdout",
     "output_type": "stream",
     "text": [
      "./ ./64 ./result\n",
      "chready: True\n"
     ]
    },
    {
     "name": "stderr",
     "output_type": "stream",
     "text": [
      "100%|██████████| 625628/625628 [00:01<00:00, 559870.06it/s]\n",
      "100%|██████████| 625628/625628 [00:03<00:00, 174533.70it/s]\n"
     ]
    },
    {
     "name": "stdout",
     "output_type": "stream",
     "text": [
      "./ ./58 ./result\n",
      "chready: True\n"
     ]
    },
    {
     "name": "stderr",
     "output_type": "stream",
     "text": [
      "100%|██████████| 386490/386490 [00:00<00:00, 544785.10it/s]\n",
      "100%|██████████| 386490/386490 [00:02<00:00, 183833.61it/s]\n"
     ]
    },
    {
     "name": "stdout",
     "output_type": "stream",
     "text": [
      "./ ./87 ./result\n",
      "chready: True\n"
     ]
    },
    {
     "name": "stderr",
     "output_type": "stream",
     "text": [
      "100%|██████████| 4847/4847 [00:00<00:00, 499896.52it/s]\n",
      "100%|██████████| 4847/4847 [00:00<00:00, 272934.40it/s]\n"
     ]
    },
    {
     "name": "stdout",
     "output_type": "stream",
     "text": [
      "./ ./61 ./result\n",
      "chready: True\n"
     ]
    },
    {
     "name": "stderr",
     "output_type": "stream",
     "text": [
      "100%|██████████| 1194234/1194234 [00:01<00:00, 620377.86it/s]\n",
      "100%|██████████| 1194234/1194234 [00:07<00:00, 166442.55it/s]\n"
     ]
    },
    {
     "name": "stdout",
     "output_type": "stream",
     "text": [
      "./ ./92 ./result\n",
      "chready: True\n"
     ]
    },
    {
     "name": "stderr",
     "output_type": "stream",
     "text": [
      "100%|██████████| 94258/94258 [00:00<00:00, 641272.96it/s]\n",
      "100%|██████████| 94258/94258 [00:00<00:00, 260787.95it/s]\n"
     ]
    },
    {
     "name": "stdout",
     "output_type": "stream",
     "text": [
      "./ ./86 ./result\n",
      "chready: True\n"
     ]
    },
    {
     "name": "stderr",
     "output_type": "stream",
     "text": [
      "100%|██████████| 143158/143158 [00:00<00:00, 492179.10it/s]\n",
      "100%|██████████| 143158/143158 [00:00<00:00, 210952.85it/s]\n"
     ]
    }
   ],
   "source": [
    "for r in regions:\n",
    "    if (not f'{r}_hadobj.csv' in os.listdir(final_dir)) or (not f'{r}_parsed_chains.csv' in os.listdir(final_dir)):\n",
    "        %run gar_try_v1.py {data_dir} {r} {final_dir}"
   ]
  },
  {
   "cell_type": "code",
   "execution_count": 4,
   "id": "08d7eefb",
   "metadata": {
    "scrolled": false
   },
   "outputs": [],
   "source": [
    "#%run gar_try_v1.py {data_dir} 01 {final_dir}"
   ]
  },
  {
   "cell_type": "code",
   "execution_count": 5,
   "id": "09512278",
   "metadata": {},
   "outputs": [
    {
     "name": "stdout",
     "output_type": "stream",
     "text": [
      "done: 86\n",
      "done: 100.0\n"
     ]
    }
   ],
   "source": [
    "done = 0\n",
    "for r in regions:\n",
    "    if (f'{r}_hadobj.csv' in os.listdir(final_dir)) and (f'{r}_parsed_chains.csv' in os.listdir(final_dir)):\n",
    "        done +=1\n",
    "print(f'done: {done}')\n",
    "print(f'done: {done/len(regions)*100}%')"
   ]
  },
  {
   "cell_type": "code",
   "execution_count": 15,
   "id": "e5ecf219",
   "metadata": {},
   "outputs": [
    {
     "name": "stderr",
     "output_type": "stream",
     "text": [
      "  8%|▊         | 7/86 [01:04<11:16,  8.56s/it]/opt/anaconda/lib/python3.8/site-packages/IPython/core/interactiveshell.py:3444: DtypeWarning: Columns (13,19,22) have mixed types.Specify dtype option on import or set low_memory=False.\n",
      "  exec(code_obj, self.user_global_ns, self.user_ns)\n",
      "  9%|▉         | 8/86 [01:11<10:29,  8.08s/it]/opt/anaconda/lib/python3.8/site-packages/IPython/core/interactiveshell.py:3444: DtypeWarning: Columns (1,13,19,22) have mixed types.Specify dtype option on import or set low_memory=False.\n",
      "  exec(code_obj, self.user_global_ns, self.user_ns)\n",
      " 13%|█▎        | 11/86 [01:37<11:08,  8.92s/it]/opt/anaconda/lib/python3.8/site-packages/IPython/core/interactiveshell.py:3444: DtypeWarning: Columns (0,1,12,13,18,19,21,22) have mixed types.Specify dtype option on import or set low_memory=False.\n",
      "  exec(code_obj, self.user_global_ns, self.user_ns)\n",
      " 19%|█▊        | 16/86 [02:48<16:09, 13.85s/it]/opt/anaconda/lib/python3.8/site-packages/IPython/core/interactiveshell.py:3444: DtypeWarning: Columns (2) have mixed types.Specify dtype option on import or set low_memory=False.\n",
      "  exec(code_obj, self.user_global_ns, self.user_ns)\n",
      " 35%|███▍      | 30/86 [04:51<06:46,  7.26s/it]/opt/anaconda/lib/python3.8/site-packages/IPython/core/interactiveshell.py:3444: DtypeWarning: Columns (0,1,2,12,13,18,19,21,22) have mixed types.Specify dtype option on import or set low_memory=False.\n",
      "  exec(code_obj, self.user_global_ns, self.user_ns)\n",
      " 62%|██████▏   | 53/86 [09:37<03:38,  6.62s/it]/opt/anaconda/lib/python3.8/site-packages/IPython/core/interactiveshell.py:3444: DtypeWarning: Columns (1,2,12,13,18,19,21,22) have mixed types.Specify dtype option on import or set low_memory=False.\n",
      "  exec(code_obj, self.user_global_ns, self.user_ns)\n",
      "100%|██████████| 86/86 [16:30<00:00, 11.51s/it]"
     ]
    },
    {
     "name": "stdout",
     "output_type": "stream",
     "text": [
      "total_hadobj: 32453568\n",
      "total_parsed_chains: 32448994\n"
     ]
    },
    {
     "name": "stderr",
     "output_type": "stream",
     "text": [
      "\n"
     ]
    }
   ],
   "source": [
    "sample = AddingDataPsycopg()\n",
    "sample.create_table('hadobj', 'gar_source')\n",
    "sample.create_table('parsed_chains', 'gar_source')\n",
    "\n",
    "total_hadobj = 0\n",
    "total_parsed_chains = 0\n",
    "\n",
    "for r in tqdm(regions):\n",
    "    if f'{r}_hadobj.csv' in os.listdir(final_dir):     \n",
    "        hadobj = pd.read_csv(os.path.join(final_dir, f'{r}_hadobj.csv'), dtype={#'isactive': 'Int64', 'isactual': 'Int64',\n",
    "                                                       'level': 'Int64', 'objectid': 'Int64',\n",
    "                                                        'OKTMO' : 'str', 'KLADR' : 'str'})\n",
    "        total_hadobj += len(hadobj)\n",
    "        sample.write_to_sql(hadobj, 'hadobj', 'gar_source')\n",
    "        #print(r)\n",
    "        #print(f'{r}_hadobj({len(hadobj)}) - loaded')\n",
    "    if f'{r}_parsed_chains.csv' in os.listdir(final_dir):\n",
    "        parsed_chains = pd.read_csv(os.path.join(final_dir, f'{r}_parsed_chains.csv'), dtype={\"l1\": 'Int64', \"l2\": 'Int64', \"l3\": 'Int64',\n",
    "                                                                     \"l4\": 'Int64', \"l5\": 'Int64', \"l6\": 'Int64',\n",
    "                                                                     \"l7\": 'Int64', \"l8\": 'Int64', \"l9\": 'Int64',\n",
    "                                                                     \"l10\": 'Int64',\n",
    "                                                                     'tow': 'Int64',\n",
    "                                                                     'mun': 'Int64',\n",
    "                                                                     'id_tow': 'Int64',\n",
    "                                                                     'id_mun': 'Int64',\n",
    "                                                                     'id_reg': 'Int64',\n",
    "                                                                     'street': 'Int64'})#.rename(columns={'left':'leftover'})   \n",
    "        total_parsed_chains += len(parsed_chains)\n",
    "        sample.write_to_sql(parsed_chains, 'parsed_chains', 'gar_source')\n",
    "        #print(f'{r}_parsed_chains({len(parsed_chains)}) - loaded')\n",
    "    #break\n",
    "print(f'total_hadobj: {total_hadobj}')\n",
    "print(f'total_parsed_chains: {total_parsed_chains}')"
   ]
  },
  {
   "cell_type": "code",
   "execution_count": null,
   "id": "b5abd13b",
   "metadata": {},
   "outputs": [],
   "source": []
  },
  {
   "cell_type": "code",
   "execution_count": null,
   "id": "d34e2784",
   "metadata": {},
   "outputs": [],
   "source": []
  }
 ],
 "metadata": {
  "kernelspec": {
   "display_name": "Python 3 (ipykernel)",
   "language": "python",
   "name": "python3"
  },
  "language_info": {
   "codemirror_mode": {
    "name": "ipython",
    "version": 3
   },
   "file_extension": ".py",
   "mimetype": "text/x-python",
   "name": "python",
   "nbconvert_exporter": "python",
   "pygments_lexer": "ipython3",
   "version": "3.8.12"
  }
 },
 "nbformat": 4,
 "nbformat_minor": 5
}
