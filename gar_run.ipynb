{
 "cells": [
  {
   "cell_type": "code",
   "execution_count": 1,
   "id": "b2ca6ede",
   "metadata": {},
   "outputs": [],
   "source": [
    "%%capture\n",
    "!pip install numpy==1.21.4\n",
    "!pip install pandas==1.3.4\n",
    "!pip install loguru==0.5.3"
   ]
  },
  {
   "cell_type": "code",
   "execution_count": 4,
   "id": "def9d3af",
   "metadata": {},
   "outputs": [],
   "source": [
    "import sys\n",
    "import os\n",
    "from tqdm import tqdm\n",
    "regions = [i for i in os.listdir() if (len(i) == 2) and (not i in ['88', '81', '82', '80', '84', '85'])]\n",
    "data_dir = './'\n",
    "final_dir = './result'"
   ]
  },
  {
   "cell_type": "code",
   "execution_count": null,
   "id": "9286ae19",
   "metadata": {
    "scrolled": true
   },
   "outputs": [
    {
     "name": "stdout",
     "output_type": "stream",
     "text": [
      "./ ./43 ./result\n",
      "chready: True\n"
     ]
    },
    {
     "name": "stderr",
     "output_type": "stream",
     "text": [
      "100%|██████████| 328256/328256 [00:00<00:00, 574356.01it/s]\n",
      "100%|██████████| 328256/328256 [00:01<00:00, 169988.51it/s]\n"
     ]
    },
    {
     "name": "stdout",
     "output_type": "stream",
     "text": [
      "./ ./30 ./result\n",
      "chready: True\n"
     ]
    },
    {
     "name": "stderr",
     "output_type": "stream",
     "text": [
      "100%|██████████| 265600/265600 [00:00<00:00, 545523.04it/s]\n",
      "100%|██████████| 265600/265600 [00:01<00:00, 176853.54it/s]\n"
     ]
    },
    {
     "name": "stdout",
     "output_type": "stream",
     "text": [
      "./ ./91 ./result\n",
      "chready: True\n"
     ]
    },
    {
     "name": "stderr",
     "output_type": "stream",
     "text": [
      "100%|██████████| 504021/504021 [00:00<00:00, 632037.05it/s]\n",
      "100%|██████████| 504021/504021 [00:03<00:00, 166728.85it/s]\n"
     ]
    },
    {
     "name": "stdout",
     "output_type": "stream",
     "text": [
      "./ ./73 ./result\n",
      "chready: True\n"
     ]
    },
    {
     "name": "stderr",
     "output_type": "stream",
     "text": [
      "100%|██████████| 279474/279474 [00:00<00:00, 520332.55it/s]\n",
      "100%|██████████| 279474/279474 [00:01<00:00, 169563.06it/s]\n"
     ]
    },
    {
     "name": "stdout",
     "output_type": "stream",
     "text": [
      "./ ./31 ./result\n",
      "chready: True\n"
     ]
    },
    {
     "name": "stderr",
     "output_type": "stream",
     "text": [
      "100%|██████████| 560673/560673 [00:00<00:00, 603121.08it/s]\n",
      "100%|██████████| 560673/560673 [00:03<00:00, 173713.66it/s]\n"
     ]
    },
    {
     "name": "stdout",
     "output_type": "stream",
     "text": [
      "./ ./99 ./result\n",
      "chready: True\n"
     ]
    },
    {
     "name": "stderr",
     "output_type": "stream",
     "text": [
      "100%|██████████| 536/536 [00:00<00:00, 651825.73it/s]\n",
      "100%|██████████| 536/536 [00:00<00:00, 432502.30it/s]\n"
     ]
    },
    {
     "name": "stdout",
     "output_type": "stream",
     "text": [
      "./ ./46 ./result\n",
      "chready: True\n"
     ]
    },
    {
     "name": "stderr",
     "output_type": "stream",
     "text": [
      "100%|██████████| 338539/338539 [00:00<00:00, 574254.00it/s]\n",
      "100%|██████████| 338539/338539 [00:01<00:00, 182092.74it/s]\n"
     ]
    },
    {
     "name": "stdout",
     "output_type": "stream",
     "text": [
      "./ ./13 ./result\n",
      "chready: True\n"
     ]
    },
    {
     "name": "stderr",
     "output_type": "stream",
     "text": [
      "100%|██████████| 241046/241046 [00:00<00:00, 575177.63it/s]\n",
      "100%|██████████| 241046/241046 [00:01<00:00, 184766.41it/s]\n"
     ]
    },
    {
     "name": "stdout",
     "output_type": "stream",
     "text": [
      "./ ./67 ./result\n",
      "chready: True\n"
     ]
    },
    {
     "name": "stderr",
     "output_type": "stream",
     "text": [
      "100%|██████████| 264580/264580 [00:00<00:00, 568267.35it/s]\n",
      "100%|██████████| 264580/264580 [00:01<00:00, 173874.93it/s]\n"
     ]
    },
    {
     "name": "stdout",
     "output_type": "stream",
     "text": [
      "./ ./06 ./result\n"
     ]
    }
   ],
   "source": [
    "for r in regions:\n",
    "    if (not f'{r}_hadobj.csv' in os.listdir(final_dir)) or (not f'{r}_parsed_chains.csv' in os.listdir(final_dir)):\n",
    "        %run gar_try.py {data_dir} {r} {final_dir}"
   ]
  },
  {
   "cell_type": "code",
   "execution_count": 6,
   "id": "08d7eefb",
   "metadata": {
    "scrolled": true
   },
   "outputs": [],
   "source": [
    "#%run gar_try.py {data_dir} 01 {final_dir}"
   ]
  },
  {
   "cell_type": "code",
   "execution_count": 8,
   "id": "09512278",
   "metadata": {},
   "outputs": [
    {
     "name": "stderr",
     "output_type": "stream",
     "text": [
      "100%|██████████| 86/86 [00:00<00:00, 45997.21it/s]\n"
     ]
    },
    {
     "data": {
      "text/plain": [
       "1"
      ]
     },
     "execution_count": 8,
     "metadata": {},
     "output_type": "execute_result"
    }
   ],
   "source": [
    "done = 0\n",
    "for r in tqdm(regions):\n",
    "    if (f'{r}_hadobj.csv' in os.listdir(final_dir)) and (f'{r}_parsed_chains.csv' in os.listdir(final_dir)):\n",
    "        done +=1\n",
    "done"
   ]
  },
  {
   "cell_type": "code",
   "execution_count": null,
   "id": "ecd59fc3",
   "metadata": {},
   "outputs": [],
   "source": []
  }
 ],
 "metadata": {
  "kernelspec": {
   "display_name": "Python 3 (ipykernel)",
   "language": "python",
   "name": "python3"
  },
  "language_info": {
   "codemirror_mode": {
    "name": "ipython",
    "version": 3
   },
   "file_extension": ".py",
   "mimetype": "text/x-python",
   "name": "python",
   "nbconvert_exporter": "python",
   "pygments_lexer": "ipython3",
   "version": "3.8.12"
  }
 },
 "nbformat": 4,
 "nbformat_minor": 5
}
