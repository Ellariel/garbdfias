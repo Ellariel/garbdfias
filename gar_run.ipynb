{
 "cells": [
  {
   "cell_type": "code",
   "execution_count": 1,
   "id": "b2ca6ede",
   "metadata": {},
   "outputs": [],
   "source": [
    "%%capture\n",
    "!pip install numpy==1.21.4\n",
    "!pip install pandas==1.3.4\n",
    "!pip install loguru==0.5.3\n",
    "!pip install psycopg2-binary"
   ]
  },
  {
   "cell_type": "code",
   "execution_count": 4,
   "id": "bc4fbfb9",
   "metadata": {},
   "outputs": [],
   "source": [
    "import sys\n",
    "import os\n",
    "from tqdm import tqdm\n",
    "import pandas as pd\n",
    "from adding_tables_psycopg import AddingDataPsycopg\n",
    "import warnings\n",
    "warnings.filterwarnings(\"ignore\")"
   ]
  },
  {
   "cell_type": "code",
   "execution_count": 5,
   "id": "def9d3af",
   "metadata": {},
   "outputs": [],
   "source": [
    "data_dir = './'\n",
    "final_dir = './result'\n",
    "os.makedirs(final_dir, exist_ok=True)\n",
    "regions = [i for i in os.listdir(data_dir) if (len(i) == 2) and (not i in ['88', '81', '82', '80', '84', '85'])]"
   ]
  },
  {
   "cell_type": "code",
   "execution_count": 6,
   "id": "9286ae19",
   "metadata": {
    "scrolled": true
   },
   "outputs": [
    {
     "name": "stdout",
     "output_type": "stream",
     "text": [
      "./ ./09 ./result\n",
      "chready: True\n"
     ]
    },
    {
     "name": "stderr",
     "output_type": "stream",
     "text": [
      "100%|██████████| 111828/111828 [00:00<00:00, 588969.55it/s]\n",
      "100%|██████████| 111828/111828 [00:00<00:00, 178560.04it/s]\n"
     ]
    }
   ],
   "source": [
    "for r in regions:\n",
    "    if (not f'{r}_hadobj.csv' in os.listdir(final_dir)) or (not f'{r}_parsed_chains.csv' in os.listdir(final_dir)):\n",
    "        %run gar_try_v1.py {data_dir} {r} {final_dir}"
   ]
  },
  {
   "cell_type": "code",
   "execution_count": 3,
   "id": "08d7eefb",
   "metadata": {
    "scrolled": false
   },
   "outputs": [
    {
     "name": "stdout",
     "output_type": "stream",
     "text": [
      "./ ./23 ./result\n",
      "chready: True\n"
     ]
    },
    {
     "name": "stderr",
     "output_type": "stream",
     "text": [
      "100%|██████████| 1761860/1761860 [00:03<00:00, 580530.04it/s]\n",
      "100%|██████████| 1761860/1761860 [00:13<00:00, 135218.69it/s]\n"
     ]
    }
   ],
   "source": [
    "%run gar_try_v1.py {data_dir} 23 {final_dir}"
   ]
  },
  {
   "cell_type": "code",
   "execution_count": 5,
   "id": "09512278",
   "metadata": {},
   "outputs": [
    {
     "name": "stdout",
     "output_type": "stream",
     "text": [
      "done: 86\n",
      "done: 100.0\n"
     ]
    }
   ],
   "source": [
    "done = 0\n",
    "for r in regions:\n",
    "    if (f'{r}_hadobj.csv' in os.listdir(final_dir)) and (f'{r}_parsed_chains.csv' in os.listdir(final_dir)):\n",
    "        done +=1\n",
    "print(f'done: {done}')\n",
    "print(f'done: {done/len(regions)*100}%')"
   ]
  },
  {
   "cell_type": "code",
   "execution_count": 15,
   "id": "e5ecf219",
   "metadata": {},
   "outputs": [
    {
     "name": "stderr",
     "output_type": "stream",
     "text": [
      "  8%|▊         | 7/86 [01:04<11:16,  8.56s/it]/opt/anaconda/lib/python3.8/site-packages/IPython/core/interactiveshell.py:3444: DtypeWarning: Columns (13,19,22) have mixed types.Specify dtype option on import or set low_memory=False.\n",
      "  exec(code_obj, self.user_global_ns, self.user_ns)\n",
      "  9%|▉         | 8/86 [01:11<10:29,  8.08s/it]/opt/anaconda/lib/python3.8/site-packages/IPython/core/interactiveshell.py:3444: DtypeWarning: Columns (1,13,19,22) have mixed types.Specify dtype option on import or set low_memory=False.\n",
      "  exec(code_obj, self.user_global_ns, self.user_ns)\n",
      " 13%|█▎        | 11/86 [01:37<11:08,  8.92s/it]/opt/anaconda/lib/python3.8/site-packages/IPython/core/interactiveshell.py:3444: DtypeWarning: Columns (0,1,12,13,18,19,21,22) have mixed types.Specify dtype option on import or set low_memory=False.\n",
      "  exec(code_obj, self.user_global_ns, self.user_ns)\n",
      " 19%|█▊        | 16/86 [02:48<16:09, 13.85s/it]/opt/anaconda/lib/python3.8/site-packages/IPython/core/interactiveshell.py:3444: DtypeWarning: Columns (2) have mixed types.Specify dtype option on import or set low_memory=False.\n",
      "  exec(code_obj, self.user_global_ns, self.user_ns)\n",
      " 35%|███▍      | 30/86 [04:51<06:46,  7.26s/it]/opt/anaconda/lib/python3.8/site-packages/IPython/core/interactiveshell.py:3444: DtypeWarning: Columns (0,1,2,12,13,18,19,21,22) have mixed types.Specify dtype option on import or set low_memory=False.\n",
      "  exec(code_obj, self.user_global_ns, self.user_ns)\n",
      " 62%|██████▏   | 53/86 [09:37<03:38,  6.62s/it]/opt/anaconda/lib/python3.8/site-packages/IPython/core/interactiveshell.py:3444: DtypeWarning: Columns (1,2,12,13,18,19,21,22) have mixed types.Specify dtype option on import or set low_memory=False.\n",
      "  exec(code_obj, self.user_global_ns, self.user_ns)\n",
      "100%|██████████| 86/86 [16:30<00:00, 11.51s/it]"
     ]
    },
    {
     "name": "stdout",
     "output_type": "stream",
     "text": [
      "total_hadobj: 32453568\n",
      "total_parsed_chains: 32448994\n"
     ]
    },
    {
     "name": "stderr",
     "output_type": "stream",
     "text": [
      "\n"
     ]
    }
   ],
   "source": [
    "sample = AddingDataPsycopg()\n",
    "sample.create_table('hadobj', 'gar_source')\n",
    "sample.create_table('parsed_chains', 'gar_source')\n",
    "\n",
    "total_hadobj = 0\n",
    "total_parsed_chains = 0\n",
    "\n",
    "for r in tqdm(regions):\n",
    "    if f'{r}_hadobj.csv' in os.listdir(final_dir):     \n",
    "        hadobj = pd.read_csv(os.path.join(final_dir, f'{r}_hadobj.csv'), dtype={#'isactive': 'Int64', 'isactual': 'Int64',\n",
    "                                                       'level': 'Int64', 'objectid': 'Int64',\n",
    "                                                        'OKTMO' : 'str', 'KLADR' : 'str'})\n",
    "        total_hadobj += len(hadobj)\n",
    "        sample.write_to_sql(hadobj, 'hadobj', 'gar_source')\n",
    "        #print(r)\n",
    "        #print(f'{r}_hadobj({len(hadobj)}) - loaded')\n",
    "    if f'{r}_parsed_chains.csv' in os.listdir(final_dir):\n",
    "        parsed_chains = pd.read_csv(os.path.join(final_dir, f'{r}_parsed_chains.csv'), dtype={\"l1\": 'Int64', \"l2\": 'Int64', \"l3\": 'Int64',\n",
    "                                                                     \"l4\": 'Int64', \"l5\": 'Int64', \"l6\": 'Int64',\n",
    "                                                                     \"l7\": 'Int64', \"l8\": 'Int64', \"l9\": 'Int64',\n",
    "                                                                     \"l10\": 'Int64',\n",
    "                                                                     'tow': 'Int64',\n",
    "                                                                     'mun': 'Int64',\n",
    "                                                                     'id_tow': 'Int64',\n",
    "                                                                     'id_mun': 'Int64',\n",
    "                                                                     'id_reg': 'Int64',\n",
    "                                                                     'street': 'Int64'})#.rename(columns={'left':'leftover'})   \n",
    "        total_parsed_chains += len(parsed_chains)\n",
    "        sample.write_to_sql(parsed_chains, 'parsed_chains', 'gar_source')\n",
    "        #print(f'{r}_parsed_chains({len(parsed_chains)}) - loaded')\n",
    "    #break\n",
    "print(f'total_hadobj: {total_hadobj}')\n",
    "print(f'total_parsed_chains: {total_parsed_chains}')"
   ]
  },
  {
   "cell_type": "code",
   "execution_count": null,
   "id": "b5abd13b",
   "metadata": {},
   "outputs": [],
   "source": []
  },
  {
   "cell_type": "code",
   "execution_count": null,
   "id": "d34e2784",
   "metadata": {},
   "outputs": [],
   "source": []
  }
 ],
 "metadata": {
  "kernelspec": {
   "display_name": "Python 3 (ipykernel)",
   "language": "python",
   "name": "python3"
  },
  "language_info": {
   "codemirror_mode": {
    "name": "ipython",
    "version": 3
   },
   "file_extension": ".py",
   "mimetype": "text/x-python",
   "name": "python",
   "nbconvert_exporter": "python",
   "pygments_lexer": "ipython3",
   "version": "3.8.12"
  }
 },
 "nbformat": 4,
 "nbformat_minor": 5
}
